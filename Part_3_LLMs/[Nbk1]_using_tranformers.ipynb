{
  "nbformat": 4,
  "nbformat_minor": 0,
  "metadata": {
    "colab": {
      "provenance": []
    },
    "kernelspec": {
      "name": "python3",
      "display_name": "Python 3"
    },
    "language_info": {
      "name": "python"
    }
  },
  "cells": [
    {
      "cell_type": "markdown",
      "source": [
        "# Using transformers\n",
        "We will start by learning how to use transformer models for different tasks, by using the Hugging Face ``transformers`` library. Before starting, make sure you have the ``transformers`` library installed, and import it."
      ],
      "metadata": {
        "id": "5rwJ_3xvvdWd"
      }
    },
    {
      "cell_type": "code",
      "execution_count": 1,
      "metadata": {
        "id": "yLlgCJq4tHlz"
      },
      "outputs": [],
      "source": [
        "from transformers import pipeline"
      ]
    },
    {
      "cell_type": "markdown",
      "source": [
        "## Sentiment analysis\n",
        "The easiest way to use a transformer model from the Hugging Face library is by using the ``pipeline()`` function. Hugging Face describes the ``pipeline()`` function as\n",
        "> connencting a model with its necessary preprocessing and postprocessing steps, allowing us to directly input any text and get an intelligible answer.\n",
        "\n",
        "For example, if we want to use a pre-trained classifier for sentiment analysis, we may do the following:"
      ],
      "metadata": {
        "id": "IbzG7DyQtx8V"
      }
    },
    {
      "cell_type": "code",
      "source": [
        "classifier = pipeline(\"sentiment-analysis\")\n",
        "sentence = \"I loved the theater yesterday\"\n",
        "classifier(sentence)"
      ],
      "metadata": {
        "colab": {
          "base_uri": "https://localhost:8080/"
        },
        "id": "ohw7N4fotmAF",
        "outputId": "644feec8-1001-44f2-a8ef-513ddb8ed773"
      },
      "execution_count": 30,
      "outputs": [
        {
          "output_type": "stream",
          "name": "stderr",
          "text": [
            "No model was supplied, defaulted to distilbert/distilbert-base-uncased-finetuned-sst-2-english and revision 714eb0f (https://huggingface.co/distilbert/distilbert-base-uncased-finetuned-sst-2-english).\n",
            "Using a pipeline without specifying a model name and revision in production is not recommended.\n",
            "Device set to use cpu\n"
          ]
        },
        {
          "output_type": "execute_result",
          "data": {
            "text/plain": [
              "[{'label': 'POSITIVE', 'score': 0.9997727274894714}]"
            ]
          },
          "metadata": {},
          "execution_count": 30
        }
      ]
    },
    {
      "cell_type": "markdown",
      "source": [
        "**Question.** What model is being used by default ?\n",
        "\n",
        "**Exercise.** The ``classifier`` model can process several input sentences at a time. Create a list of 3 sentences and input the whole list in order to classify the 3 sentences simultaneously."
      ],
      "metadata": {
        "id": "FlZVLBmpw0ol"
      }
    },
    {
      "cell_type": "code",
      "source": [
        "# TODO: create a list of 3 sentences\n",
        "\n",
        "# TODO: classify the above sentences using the classifier model"
      ],
      "metadata": {
        "id": "1McHnPbDuSo1"
      },
      "execution_count": 12,
      "outputs": []
    },
    {
      "cell_type": "markdown",
      "source": [
        "**Question.** When classifying the above sentences, how sure is the model ?\n",
        "\n",
        "**Exercise.** Try and write down a sentence so that the model classifies it as being positive/negative with probabilites close to 0.5."
      ],
      "metadata": {
        "id": "sBtlFSYAxpi1"
      }
    },
    {
      "cell_type": "code",
      "source": [
        "# TODO: get a score as close to 0.5 as possible."
      ],
      "metadata": {
        "id": "vyP4gKhNvDDV"
      },
      "execution_count": 13,
      "outputs": []
    },
    {
      "cell_type": "markdown",
      "source": [
        "**Discussion.** Take a pause to discuss with you classmates and with the teacher:\n",
        "- Did anyone manage to get a score close to 0.5 ?\n",
        "- Which sentences work best ?\n",
        "- What is going on ?"
      ],
      "metadata": {
        "id": "4XN29321yHac"
      }
    },
    {
      "cell_type": "markdown",
      "source": [
        "## Translation\n",
        "Next we will use the ``pipeline()`` function for the task of machine translation. We will choose to load the *T5 transformer* model, provided by Google, which supports English, French, German and Romanian. In order to do that, we will specify to the ``pipeline()`` function that that we want to use the model ``google-t5/t5-base``, as follows:"
      ],
      "metadata": {
        "id": "fTPNzd3tyqO1"
      }
    },
    {
      "cell_type": "code",
      "source": [
        "translator = pipeline(\"translation\", model=\"google-t5/t5-base\")\n"
      ],
      "metadata": {
        "colab": {
          "base_uri": "https://localhost:8080/"
        },
        "id": "2aD0QiayyGA-",
        "outputId": "acbdc0a6-23c3-48c6-e725-b9cbbb639c28"
      },
      "execution_count": 22,
      "outputs": [
        {
          "output_type": "stream",
          "name": "stderr",
          "text": [
            "Device set to use cpu\n"
          ]
        },
        {
          "output_type": "execute_result",
          "data": {
            "text/plain": [
              "[{'translation_text': \"J'ai aimé l'opéra hier\"}]"
            ]
          },
          "metadata": {},
          "execution_count": 22
        }
      ]
    },
    {
      "cell_type": "markdown",
      "source": [
        "**Exercise.** Use the translator model to translate the sentence *The farmers take the cows up to the mountains during summer*."
      ],
      "metadata": {
        "id": "3rfP2m8R3Py2"
      }
    },
    {
      "cell_type": "code",
      "source": [
        "# TODO: Translate the given sentence"
      ],
      "metadata": {
        "colab": {
          "base_uri": "https://localhost:8080/"
        },
        "id": "w-9uMbcJ192_",
        "outputId": "aa41782e-2bc5-43e7-f947-73ee07bff0d5"
      },
      "execution_count": 24,
      "outputs": [
        {
          "output_type": "execute_result",
          "data": {
            "text/plain": [
              "[{'translation_text': 'Die Bauern bringen die Kühe im Sommer in die Berge.'}]"
            ]
          },
          "metadata": {},
          "execution_count": 24
        }
      ]
    },
    {
      "cell_type": "markdown",
      "source": [
        "**Question.** What language did the model translate the sentence to?\n",
        "\n",
        "**Exercise.** Choose a different language and have the model translate the same sentence to the new language."
      ],
      "metadata": {
        "id": "DDazEsJ53rBd"
      }
    },
    {
      "cell_type": "code",
      "source": [
        "# TODO: Translate the same sentece to a different language"
      ],
      "metadata": {
        "id": "U1J_upsK3lQ1"
      },
      "execution_count": 25,
      "outputs": []
    },
    {
      "cell_type": "markdown",
      "source": [
        "**Exercise.** Try and translate the same sentece to Spanish."
      ],
      "metadata": {
        "id": "kCw3DBwU4J-2"
      }
    },
    {
      "cell_type": "code",
      "source": [
        "# TODO: try and translate to Spanish"
      ],
      "metadata": {
        "id": "GfwVd8BQ3_f2"
      },
      "execution_count": 27,
      "outputs": []
    },
    {
      "cell_type": "markdown",
      "source": [
        "**Exercise.** Check the [Hugging Face Modle Hub](https://huggingface.co/models) for a translation model that can translate from English to Spanish and use it to translate the sentence above.\n",
        "\n",
        "**Hint.** Use the tags in the left-hand side in order to filter the models according to the task."
      ],
      "metadata": {
        "id": "3OkvVCAQ4XJG"
      }
    },
    {
      "cell_type": "code",
      "source": [
        "# TODO: repeat the steps above with a model that handles English 2 Spanish translation."
      ],
      "metadata": {
        "id": "o7hCqCQS4HNA"
      },
      "execution_count": 28,
      "outputs": []
    },
    {
      "cell_type": "code",
      "source": [],
      "metadata": {
        "id": "nMzTqQLH48Jn"
      },
      "execution_count": null,
      "outputs": []
    }
  ]
}