{
 "cells": [
  {
   "cell_type": "markdown",
   "metadata": {},
   "source": [
    "**All Rights Reserved**\n",
    "\n",
    "**Copyright (c) 2025 IRT Saint-Exupery**\n",
    "\n",
    "*Author & contact:* \n",
    "* mouhcine.mendil@irt-saintexupery.com \n",
    "\n",
    "# Introduction to Natural Language Processing (NLP)\n",
    "\n",
    "<div align=\"center\">\n",
    "    <h2>Lab Sessions 1 & 2</h2>\n",
    "</div>\n",
    "\n",
    "By now, you may have encountered various data structures such as tables, images, and time series. But have you ever wondered how computers can understand human language? This is where Natural Language Processing (NLP) comes in: it is one of the most popular fields in AI today. Thanks to recent developments in foundation models that rely on transformer architectures, NLP capabilities have has seen revolutionary advancements. In this tutorial, you will get an introduction to this exciting field that combines computer science, linguistics, and machine learning. We will explore the world of text data and provide you with the skills necessary to process them and create models that can unlock knowledge and extract valuable insights.\n",
    "\n",
    "## 0. Setup\n",
    "\n",
    "<div class=\"alert alert-block alert-warning\">\n",
    "\n",
    "There are many special characters for text formatting that control rendering like line jumps, symbols, etc. \n",
    "\n",
    "⚠️ Use <code>print</code> for raw text output and the function <code>printmd</code> (defined below) to have a beautiful markdown rendering when needed.\n",
    "\n",
    "</div>\n"
   ]
  },
  {
   "cell_type": "markdown",
   "metadata": {},
   "source": [
    "**NLP tools requirements:**\n",
    "\n",
    "* Natural Language Toolkit (NLTK) is one of the leading platforms for building Python programs to work with human language data.\n",
    "\n",
    "* Gensim is a Python library for topic modelling, document indexing and similarity retrieval with large corpora. Target audience is NLP and information retrieval (IR) community.\n"
   ]
  },
  {
   "cell_type": "code",
   "execution_count": 1,
   "metadata": {},
   "outputs": [],
   "source": [
    "# Run this cell to install requirements\n",
    "# %pip install --user --upgrade nltk pandas gensim seaborn scikit-learn textblob regex tqdm\n",
    "# scipy>=1.8.0"
   ]
  },
  {
   "cell_type": "code",
   "execution_count": 2,
   "metadata": {},
   "outputs": [
    {
     "name": "stderr",
     "output_type": "stream",
     "text": [
      "[nltk_data] Downloading package stopwords to\n",
      "[nltk_data]     C:\\Users\\mouhcine.mendil\\AppData\\Roaming\\nltk_data...\n",
      "[nltk_data]   Package stopwords is already up-to-date!\n",
      "[nltk_data] Downloading package averaged_perceptron_tagger to\n",
      "[nltk_data]     C:\\Users\\mouhcine.mendil\\AppData\\Roaming\\nltk_data...\n",
      "[nltk_data]   Package averaged_perceptron_tagger is already up-to-\n",
      "[nltk_data]       date!\n",
      "[nltk_data] Downloading package punkt to\n",
      "[nltk_data]     C:\\Users\\mouhcine.mendil\\AppData\\Roaming\\nltk_data...\n",
      "[nltk_data]   Package punkt is already up-to-date!\n"
     ]
    }
   ],
   "source": [
    "from IPython.display import Markdown, display\n",
    "from copy import deepcopy\n",
    "import numpy as np\n",
    "import pandas as pd\n",
    "import matplotlib.pyplot as plt\n",
    "import seaborn as sns\n",
    "import re\n",
    "import nltk\n",
    "from tqdm import tqdm\n",
    "\n",
    "nltk.download(\"stopwords\")\n",
    "nltk.download(\"averaged_perceptron_tagger\")\n",
    "nltk.download(\"punkt\")\n",
    "\n",
    "from nltk.corpus import stopwords\n",
    "\n",
    "\n",
    "def printmd(string):\n",
    "    display(Markdown(string))"
   ]
  },
  {
   "cell_type": "markdown",
   "metadata": {},
   "source": [
    "# 1. Sentiment Analysis of IMDb Movie Reviews\n",
    "\n",
    "One of the most common applications of NLP is text classification. Therefore, you will kickoff this notebook by addressing the task of **sentiment analysis**. The aim is understanding the positive or negative sentiment/opinion expressed in text. \n",
    "\n",
    "## 1.1 IMDb Dataset \n",
    "\n",
    "IMDb dataset contains 50,000 movie reviews in English, each labelled as positive or negative. \n",
    "You can download the dataset from [Kaggle](https://www.kaggle.com/lakshmi25npathi/imdb-dataset-of-50k-movie-reviews) (you need to sign in).\n",
    "\n",
    "<div class='alert alert-info'>\n",
    "\n",
    "<b> Exercise 1.1 </b>\n",
    "\n",
    "- Load the dataset in a dataframe. Note the feature column (review) and target column (sentiment).\n",
    "- How many samples are there ?\n",
    "- Plot the target distribution. Is the dataset balanced ?\n",
    "- Transform the target values to binary (i.e \"positive\" -> 1 & \"negative\" -> 0). Use [`np.where`](https://numpy.org/doc/stable/reference/generated/numpy.where.html).\n",
    "\n",
    "</div>"
   ]
  },
  {
   "cell_type": "code",
   "execution_count": 3,
   "metadata": {},
   "outputs": [
    {
     "name": "stdout",
     "output_type": "stream",
     "text": [
      "The number of samples is: 50000\n"
     ]
    },
    {
     "data": {
      "text/markdown": [
       "### Distribution of sentiments"
      ],
      "text/plain": [
       "<IPython.core.display.Markdown object>"
      ]
     },
     "metadata": {},
     "output_type": "display_data"
    },
    {
     "data": {
      "image/png": "[encoded data removed]",
      "text/plain": [
       "<Figure size 640x480 with 1 Axes>"
      ]
     },
     "metadata": {},
     "output_type": "display_data"
    },
    {
     "data": {
      "text/markdown": [
       "Both classes are represented equally 😄. Note that if it is not the case, suitable evaluation metrics need to be used."
      ],
      "text/plain": [
       "<IPython.core.display.Markdown object>"
      ]
     },
     "metadata": {},
     "output_type": "display_data"
    }
   ],
   "source": [
    "## Download the dataset in the data folder and load it using pandas\n",
    "df_raw = pd.read_csv(\"../data/IMDB Dataset.csv\")\n",
    "\n",
    "## Print the number of samples\n",
    "print(f\"The number of samples is: {df_raw.shape[0]}\")\n",
    "\n",
    "# plot the distribution of sentiments\n",
    "printmd(\"### Distribution of sentiments\")\n",
    "df_raw[\"sentiment\"].value_counts().plot(kind=\"bar\")\n",
    "plt.show()\n",
    "printmd(\n",
    "    \"Both classes are represented equally 😄. Note that if it is not the case, suitable evaluation metrics need to be used.\"\n",
    ")"
   ]
  },
  {
   "cell_type": "code",
   "execution_count": 4,
   "metadata": {},
   "outputs": [],
   "source": [
    "df_raw[\"sentiment\"] = np.where(df_raw[\"sentiment\"] == \"positive\", 1, 0)"
   ]
  },
  {
   "cell_type": "code",
   "execution_count": 5,
   "metadata": {},
   "outputs": [
    {
     "data": {
      "text/plain": [
       "sentiment\n",
       "1    25000\n",
       "0    25000\n",
       "Name: count, dtype: int64"
      ]
     },
     "execution_count": 5,
     "metadata": {},
     "output_type": "execute_result"
    }
   ],
   "source": [
    "df_raw[\"sentiment\"].value_counts()"
   ]
  },
  {
   "cell_type": "code",
   "execution_count": 6,
   "metadata": {},
   "outputs": [],
   "source": [
    "assert set(df_raw[\"sentiment\"]) == set(\n",
    "    {0, 1}\n",
    "), \"You still have non-binarized values, try again\""
   ]
  },
  {
   "cell_type": "markdown",
   "metadata": {},
   "source": [
    "## 1.2 Data cleaning\n",
    "\n",
    "Textual data require special handling in the pre-processing phase. \n",
    "\n",
    "\n",
    "<div class='alert alert-info'>\n",
    "\n",
    "<b> Exercise 1.2.1.1 </b>\n",
    "\n",
    "- Take a look on the first two reviews using <code>print</code> and <code>printmd</code>. What do you notice ?\n",
    "</div>"
   ]
  },
  {
   "cell_type": "code",
   "execution_count": 7,
   "metadata": {},
   "outputs": [
    {
     "data": {
      "text/markdown": [
       "### First review"
      ],
      "text/plain": [
       "<IPython.core.display.Markdown object>"
      ]
     },
     "metadata": {},
     "output_type": "display_data"
    },
    {
     "name": "stdout",
     "output_type": "stream",
     "text": [
      "One of the other reviewers has mentioned that after watching just 1 Oz episode you'll be hooked. They are right, as this is exactly what happened with me.<br /><br />The first thing that struck me about Oz was its brutality and unflinching scenes of violence, which set in right from the word GO. Trust me, this is not a show for the faint hearted or timid. This show pulls no punches with regards to drugs, sex or violence. Its is hardcore, in the classic use of the word.<br /><br />It is called OZ as that is the nickname given to the Oswald Maximum Security State Penitentary. It focuses mainly on Emerald City, an experimental section of the prison where all the cells have glass fronts and face inwards, so privacy is not high on the agenda. Em City is home to many..Aryans, Muslims, gangstas, Latinos, Christians, Italians, Irish and more....so scuffles, death stares, dodgy dealings and shady agreements are never far away.<br /><br />I would say the main appeal of the show is due to the fact that it goes where other shows wouldn't dare. Forget pretty pictures painted for mainstream audiences, forget charm, forget romance...OZ doesn't mess around. The first episode I ever saw struck me as so nasty it was surreal, I couldn't say I was ready for it, but as I watched more, I developed a taste for Oz, and got accustomed to the high levels of graphic violence. Not just violence, but injustice (crooked guards who'll be sold out for a nickel, inmates who'll kill on order and get away with it, well mannered, middle class inmates being turned into prison bitches due to their lack of street skills or prison experience) Watching Oz, you may become comfortable with what is uncomfortable viewing....thats if you can get in touch with your darker side.\n"
     ]
    },
    {
     "data": {
      "text/markdown": [
       "One of the other reviewers has mentioned that after watching just 1 Oz episode you'll be hooked. They are right, as this is exactly what happened with me.<br /><br />The first thing that struck me about Oz was its brutality and unflinching scenes of violence, which set in right from the word GO. Trust me, this is not a show for the faint hearted or timid. This show pulls no punches with regards to drugs, sex or violence. Its is hardcore, in the classic use of the word.<br /><br />It is called OZ as that is the nickname given to the Oswald Maximum Security State Penitentary. It focuses mainly on Emerald City, an experimental section of the prison where all the cells have glass fronts and face inwards, so privacy is not high on the agenda. Em City is home to many..Aryans, Muslims, gangstas, Latinos, Christians, Italians, Irish and more....so scuffles, death stares, dodgy dealings and shady agreements are never far away.<br /><br />I would say the main appeal of the show is due to the fact that it goes where other shows wouldn't dare. Forget pretty pictures painted for mainstream audiences, forget charm, forget romance...OZ doesn't mess around. The first episode I ever saw struck me as so nasty it was surreal, I couldn't say I was ready for it, but as I watched more, I developed a taste for Oz, and got accustomed to the high levels of graphic violence. Not just violence, but injustice (crooked guards who'll be sold out for a nickel, inmates who'll kill on order and get away with it, well mannered, middle class inmates being turned into prison bitches due to their lack of street skills or prison experience) Watching Oz, you may become comfortable with what is uncomfortable viewing....thats if you can get in touch with your darker side."
      ],
      "text/plain": [
       "<IPython.core.display.Markdown object>"
      ]
     },
     "metadata": {},
     "output_type": "display_data"
    },
    {
     "data": {
      "text/markdown": [
       "-------"
      ],
      "text/plain": [
       "<IPython.core.display.Markdown object>"
      ]
     },
     "metadata": {},
     "output_type": "display_data"
    },
    {
     "data": {
      "text/markdown": [
       "### Second review"
      ],
      "text/plain": [
       "<IPython.core.display.Markdown object>"
      ]
     },
     "metadata": {},
     "output_type": "display_data"
    },
    {
     "name": "stdout",
     "output_type": "stream",
     "text": [
      "A wonderful little production. <br /><br />The filming technique is very unassuming- very old-time-BBC fashion and gives a comforting, and sometimes discomforting, sense of realism to the entire piece. <br /><br />The actors are extremely well chosen- Michael Sheen not only \"has got all the polari\" but he has all the voices down pat too! You can truly see the seamless editing guided by the references to Williams' diary entries, not only is it well worth the watching but it is a terrificly written and performed piece. A masterful production about one of the great master's of comedy and his life. <br /><br />The realism really comes home with the little things: the fantasy of the guard which, rather than use the traditional 'dream' techniques remains solid then disappears. It plays on our knowledge and our senses, particularly with the scenes concerning Orton and Halliwell and the sets (particularly of their flat with Halliwell's murals decorating every surface) are terribly well done.\n"
     ]
    },
    {
     "data": {
      "text/markdown": [
       "A wonderful little production. <br /><br />The filming technique is very unassuming- very old-time-BBC fashion and gives a comforting, and sometimes discomforting, sense of realism to the entire piece. <br /><br />The actors are extremely well chosen- Michael Sheen not only \"has got all the polari\" but he has all the voices down pat too! You can truly see the seamless editing guided by the references to Williams' diary entries, not only is it well worth the watching but it is a terrificly written and performed piece. A masterful production about one of the great master's of comedy and his life. <br /><br />The realism really comes home with the little things: the fantasy of the guard which, rather than use the traditional 'dream' techniques remains solid then disappears. It plays on our knowledge and our senses, particularly with the scenes concerning Orton and Halliwell and the sets (particularly of their flat with Halliwell's murals decorating every surface) are terribly well done."
      ],
      "text/plain": [
       "<IPython.core.display.Markdown object>"
      ]
     },
     "metadata": {},
     "output_type": "display_data"
    }
   ],
   "source": [
    "# First review\n",
    "printmd(\"### First review\")\n",
    "print(df_raw[\"review\"][0])\n",
    "printmd(df_raw[\"review\"][0])\n",
    "\n",
    "# Second review\n",
    "printmd(\"-------\")\n",
    "printmd(\"### Second review\")\n",
    "print(df_raw[\"review\"][1])\n",
    "printmd(df_raw[\"review\"][1])"
   ]
  },
  {
   "cell_type": "code",
   "execution_count": 1,
   "metadata": {},
   "outputs": [
    {
     "name": "stdout",
     "output_type": "stream",
     "text": [
      "Package                      Version   Editable project location\n",
      "---------------------------- --------- -------------------------------------------------\n",
      "absl-py                      2.1.0\n",
      "aiofiles                     23.2.1\n",
      "aiohappyeyeballs             2.4.3\n",
      "aiohttp                      3.10.8\n",
      "aiohttp-retry                2.8.3\n",
      "aiosignal                    1.3.1\n",
      "altair                       5.4.1\n",
      "amqp                         5.2.0\n",
      "annotated-types              0.7.0\n",
      "antlr4-python3-runtime       4.9.3\n",
      "anyio                        4.6.0\n",
      "appdirs                      1.4.4\n",
      "asttokens                    2.4.1\n",
      "astunparse                   1.6.3\n",
      "async-timeout                4.0.3\n",
      "asyncssh                     2.15.0\n",
      "atpublic                     5.0\n",
      "attrs                        23.1.0\n",
      "billiard                     4.2.1\n",
      "black                        24.4.2\n",
      "Bottleneck                   1.3.6\n",
      "celery                       5.4.0\n",
      "certifi                      2022.12.7\n",
      "cffi                         1.17.0\n",
      "charset-normalizer           3.3.2\n",
      "click                        8.1.7\n",
      "click-didyoumean             0.3.1\n",
      "click-plugins                1.1.1\n",
      "click-repl                   0.3.0\n",
      "cloudpickle                  3.0.0\n",
      "colorama                     0.4.6\n",
      "comm                         0.2.0\n",
      "configobj                    5.0.9\n",
      "confluent-kafka              2.3.0\n",
      "contourpy                    1.0.5\n",
      "control                      0.10.0\n",
      "cryptography                 43.0.0\n",
      "cycler                       0.11.0\n",
      "dask                         2021.5.1\n",
      "debugpy                      1.8.0\n",
      "decorator                    5.1.1\n",
      "dictdiffer                   0.9.0\n",
      "diskcache                    5.6.3\n",
      "distributed                  2021.5.1\n",
      "distro                       1.9.0\n",
      "docker                       7.1.0\n",
      "dpath                        2.2.0\n",
      "dulwich                      0.22.1\n",
      "durations                    0.3.3\n",
      "dvc                          3.55.2\n",
      "dvc-data                     3.16.6\n",
      "dvc-http                     2.32.0\n",
      "dvc-objects                  5.1.0\n",
      "dvc-render                   1.0.2\n",
      "dvc-studio-client            0.21.0\n",
      "dvc-task                     0.4.0\n",
      "e                            1.4.5\n",
      "entrypoints                  0.4\n",
      "exceptiongroup               1.2.0\n",
      "executing                    2.0.1\n",
      "fastapi                      0.115.0\n",
      "ffmpy                        0.4.0\n",
      "filelock                     3.16.1\n",
      "flatbuffers                  24.12.23\n",
      "flatten-dict                 0.4.2\n",
      "flufl.lock                   8.1.0\n",
      "FMPy                         0.3.20\n",
      "fonttools                    4.25.0\n",
      "frozenlist                   1.4.1\n",
      "fsspec                       2024.6.1\n",
      "funcy                        2.0\n",
      "future                       1.0.0\n",
      "gast                         0.6.0\n",
      "gensim                       4.3.3\n",
      "gitdb                        4.0.11\n",
      "GitPython                    3.1.43\n",
      "google-pasta                 0.2.0\n",
      "gradio_client                0.16.3\n",
      "grandalf                     0.8\n",
      "grpcio                       1.69.0\n",
      "gto                          1.7.1\n",
      "gudhi                        3.10.0rc1\n",
      "h11                          0.14.0\n",
      "h5py                         3.12.1\n",
      "httpcore                     1.0.5\n",
      "httpx                        0.27.2\n",
      "huggingface-hub              0.25.1\n",
      "hydra-core                   1.3.2\n",
      "idna                         3.7\n",
      "imageio                      2.31.5\n",
      "importlib_resources          6.4.5\n",
      "ipykernel                    6.27.1\n",
      "ipython                      8.18.1\n",
      "ipywidgets                   8.1.3\n",
      "iterative-telemetry          0.0.9\n",
      "jedi                         0.19.1\n",
      "Jinja2                       3.1.2\n",
      "joblib                       1.4.2\n",
      "jsonpath-ng                  1.6.1\n",
      "jsonschema                   4.23.0\n",
      "jsonschema-specifications    2023.12.1\n",
      "jupyter_client               8.6.0\n",
      "jupyter_core                 5.5.0\n",
      "jupyterlab_widgets           3.0.11\n",
      "keras                        3.8.0\n",
      "kiwisolver                   1.4.4\n",
      "kombu                        5.4.2\n",
      "lark                         1.1.8\n",
      "lazy_loader                  0.3\n",
      "libclang                     18.1.1\n",
      "locket                       1.0.0\n",
      "lxml                         4.9.3\n",
      "Markdown                     3.7\n",
      "markdown-it-py               3.0.0\n",
      "MarkupSafe                   2.1.3\n",
      "matplotlib                   3.9.2\n",
      "matplotlib-inline            0.1.6\n",
      "mdurl                        0.1.2\n",
      "mkl-fft                      1.3.1\n",
      "mkl-random                   1.2.2\n",
      "mkl-service                  2.4.0\n",
      "ml-dtypes                    0.4.1\n",
      "modAL-python                 0.4.2\n",
      "msgpack                      1.0.7\n",
      "multidict                    6.1.0\n",
      "munkres                      1.1.4\n",
      "mypy-extensions              1.0.0\n",
      "namex                        0.0.8\n",
      "nanotime                     0.5.2\n",
      "narwhals                     1.9.0\n",
      "nest-asyncio                 1.5.8\n",
      "networkx                     3.3\n",
      "nltk                         3.9.1\n",
      "numexpr                      2.8.4\n",
      "numpy                        1.26.4\n",
      "numpyencoder                 0.3.0\n",
      "omegaconf                    2.3.0\n",
      "opt_einsum                   3.4.0\n",
      "optree                       0.13.1\n",
      "orjson                       3.10.7\n",
      "packaging                    22.0\n",
      "pandas                       2.2.3\n",
      "parso                        0.8.3\n",
      "partd                        1.4.2\n",
      "pathspec                     0.12.1\n",
      "patsy                        0.5.6\n",
      "Pillow                       9.3.0\n",
      "pip                          22.3.1\n",
      "platformdirs                 3.11.0\n",
      "plotly                       5.20.0\n",
      "ply                          3.11\n",
      "POT                          0.9.4\n",
      "prompt-toolkit               3.0.42\n",
      "protobuf                     5.29.3\n",
      "prts                         1.0.0.3\n",
      "psutil                       5.9.6\n",
      "puncc                        0.7.7\n",
      "pure-eval                    0.2.2\n",
      "pyasn1                       0.6.1\n",
      "pybind11                     2.11.1\n",
      "pycparser                    2.22\n",
      "pydantic                     2.9.2\n",
      "pydantic_core                2.23.4\n",
      "pyDOE2                       1.3.0\n",
      "pydot                        1.4.2\n",
      "pydub                        0.25.1\n",
      "pygit2                       1.15.1\n",
      "Pygments                     2.17.2\n",
      "pygtrie                      2.3.2\n",
      "pyparsing                    2.4.7\n",
      "PyQt5                        5.15.7\n",
      "PyQt5-sip                    12.11.0\n",
      "python-benedict              0.33.2\n",
      "python-dateutil              2.8.2\n",
      "python-fsutil                0.14.1\n",
      "python-multipart             0.0.12\n",
      "python-slugify               8.0.4\n",
      "pythonfmu                    0.6.3\n",
      "pytz                         2022.7\n",
      "pywin32                      306\n",
      "PyYAML                       6.0.2\n",
      "pyzmq                        25.1.2\n",
      "referencing                  0.35.1\n",
      "regex                        2024.11.6\n",
      "requests                     2.32.3\n",
      "rich                         13.9.1\n",
      "rpds-py                      0.20.0\n",
      "ruamel.yaml                  0.18.6\n",
      "ruamel.yaml.clib             0.2.8\n",
      "ruff                         0.6.8\n",
      "ruptures                     1.1.9\n",
      "scikit-image                 0.22.0\n",
      "scikit-learn                 1.6.1\n",
      "scipy                        1.13.1\n",
      "scmrepo                      3.3.8\n",
      "seaborn                      0.13.2\n",
      "semantic-version             2.10.0\n",
      "semver                       3.0.2\n",
      "setuptools                   68.0.0\n",
      "shellingham                  1.5.4\n",
      "shortuuid                    1.0.13\n",
      "shtab                        1.7.1\n",
      "sip                          6.6.2\n",
      "six                          1.16.0\n",
      "skorch                       0.9.0\n",
      "smart-open                   7.0.3\n",
      "smmap                        5.0.1\n",
      "sniffio                      1.3.1\n",
      "sortedcontainers             2.4.0\n",
      "sqltrie                      0.11.1\n",
      "stack-data                   0.6.3\n",
      "starlette                    0.38.6\n",
      "statsmodels                  0.14.2\n",
      "tabulate                     0.9.0\n",
      "tadkit                       0.3.0     C:\\Users\\mouhcine.mendil\\Documents\\Projets\\tadkit\n",
      "tblib                        3.0.0\n",
      "tenacity                     9.0.0\n",
      "tensorboard                  2.18.0\n",
      "tensorboard-data-server      0.7.2\n",
      "tensorflow                   2.18.0\n",
      "tensorflow_intel             2.18.0\n",
      "tensorflow-io-gcs-filesystem 0.31.0\n",
      "termcolor                    2.5.0\n",
      "text-unidecode               1.3\n",
      "textblob                     0.19.0\n",
      "threadpoolctl                3.5.0\n",
      "tifffile                     2023.9.26\n",
      "toml                         0.10.2\n",
      "tomli                        2.0.1\n",
      "tomlkit                      0.12.0\n",
      "toolz                        0.12.1\n",
      "tornado                      6.2\n",
      "tqdm                         4.67.1\n",
      "traitlets                    5.14.0\n",
      "typer                        0.12.5\n",
      "typing_extensions            4.12.2\n",
      "tzdata                       2024.1\n",
      "urllib3                      2.2.2\n",
      "uvicorn                      0.31.0\n",
      "vine                         5.1.0\n",
      "voluptuous                   0.15.2\n",
      "wcwidth                      0.2.12\n",
      "websockets                   11.0.3\n",
      "Werkzeug                     3.1.3\n",
      "wheel                        0.37.1\n",
      "widgetsnbextension           4.0.11\n",
      "win-unicode-console          0.5\n",
      "wincertstore                 0.2\n",
      "wrapt                        1.16.0\n",
      "yarl                         1.13.1\n",
      "zc.lockfile                  3.0.post1\n",
      "zict                         3.0.0\n"
     ]
    }
   ],
   "source": [
    "!pip list"
   ]
  },
  {
   "cell_type": "markdown",
   "metadata": {},
   "source": [
    "<div class=\"alert alert-info\">\n",
    "\n",
    "<h4><b>Intermediary Exercises</b></h4>\n",
    "\n",
    "Strings in Python are sequences of characters, which allows us to manipulate and process them in various ways. Let's explore:\n",
    "\n",
    "<ol>\n",
    "  <li>\n",
    "    <b>Extract characters:</b> \n",
    "    Print the list of <strong>characters</strong> that form the first review.\n",
    "  </li>\n",
    "  <li>\n",
    "    <b>Extract words:</b> \n",
    "    If we want to extract words instead of characters, we can use the \n",
    "    <a href=\"https://docs.python.org/3/library/stdtypes.html#str.split\" target=\"_blank\"><code>split</code></a> \n",
    "    method. By specifying a suitable separator (e.g., a space for English and French), we can break the string into words.\n",
    "    <ul>\n",
    "      <li>Print the list of <strong>words</strong> forming the first review.</li>\n",
    "    </ul>\n",
    "  </li>\n",
    "  <li>\n",
    "    <b>Rebuild the original Review:</b> \n",
    "    Concatenate the extracted list of words back into the original sentence using the \n",
    "    <a href=\"https://docs.python.org/3/library/stdtypes.html#str.join\" target=\"_blank\"><code>join</code></a> \n",
    "    method. Use a space to interleave each word.\n",
    "  </li>\n",
    "</ol>\n",
    "\n",
    "</div>"
   ]
  },
  {
   "cell_type": "code",
   "execution_count": 8,
   "metadata": {},
   "outputs": [
    {
     "data": {
      "text/markdown": [
       "### Characters of the first review"
      ],
      "text/plain": [
       "<IPython.core.display.Markdown object>"
      ]
     },
     "metadata": {},
     "output_type": "display_data"
    },
    {
     "name": "stdout",
     "output_type": "stream",
     "text": [
      "['O', 'n', 'e', ' ', 'o', 'f', ' ', 't', 'h', 'e', ' ', 'o', 't', 'h', 'e', 'r', ' ', 'r', 'e', 'v', 'i', 'e', 'w', 'e', 'r', 's', ' ', 'h', 'a', 's', ' ', 'm', 'e', 'n', 't', 'i', 'o', 'n', 'e', 'd', ' ', 't', 'h', 'a', 't', ' ', 'a', 'f', 't', 'e', 'r', ' ', 'w', 'a', 't', 'c', 'h', 'i', 'n', 'g', ' ', 'j', 'u', 's', 't', ' ', '1', ' ', 'O', 'z', ' ', 'e', 'p', 'i', 's', 'o', 'd', 'e', ' ', 'y', 'o', 'u', \"'\", 'l', 'l', ' ', 'b', 'e', ' ', 'h', 'o', 'o', 'k', 'e', 'd', '.', ' ', 'T', 'h', 'e', 'y', ' ', 'a', 'r', 'e', ' ', 'r', 'i', 'g', 'h', 't', ',', ' ', 'a', 's', ' ', 't', 'h', 'i', 's', ' ', 'i', 's', ' ', 'e', 'x', 'a', 'c', 't', 'l', 'y', ' ', 'w', 'h', 'a', 't', ' ', 'h', 'a', 'p', 'p', 'e', 'n', 'e', 'd', ' ', 'w', 'i', 't', 'h', ' ', 'm', 'e', '.', '<', 'b', 'r', ' ', '/', '>', '<', 'b', 'r', ' ', '/', '>', 'T', 'h', 'e', ' ', 'f', 'i', 'r', 's', 't', ' ', 't', 'h', 'i', 'n', 'g', ' ', 't', 'h', 'a', 't', ' ', 's', 't', 'r', 'u', 'c', 'k', ' ', 'm', 'e', ' ', 'a', 'b', 'o', 'u', 't', ' ', 'O', 'z', ' ', 'w', 'a', 's', ' ', 'i', 't', 's', ' ', 'b', 'r', 'u', 't', 'a', 'l', 'i', 't', 'y', ' ', 'a', 'n', 'd', ' ', 'u', 'n', 'f', 'l', 'i', 'n', 'c', 'h', 'i', 'n', 'g', ' ', 's', 'c', 'e', 'n', 'e', 's', ' ', 'o', 'f', ' ', 'v', 'i', 'o', 'l', 'e', 'n', 'c', 'e', ',', ' ', 'w', 'h', 'i', 'c', 'h', ' ', 's', 'e', 't', ' ', 'i', 'n', ' ', 'r', 'i', 'g', 'h', 't', ' ', 'f', 'r', 'o', 'm', ' ', 't', 'h', 'e', ' ', 'w', 'o', 'r', 'd', ' ', 'G', 'O', '.', ' ', 'T', 'r', 'u', 's', 't', ' ', 'm', 'e', ',', ' ', 't', 'h', 'i', 's', ' ', 'i', 's', ' ', 'n', 'o', 't', ' ', 'a', ' ', 's', 'h', 'o', 'w', ' ', 'f', 'o', 'r', ' ', 't', 'h', 'e', ' ', 'f', 'a', 'i', 'n', 't', ' ', 'h', 'e', 'a', 'r', 't', 'e', 'd', ' ', 'o', 'r', ' ', 't', 'i', 'm', 'i', 'd', '.', ' ', 'T', 'h', 'i', 's', ' ', 's', 'h', 'o', 'w', ' ', 'p', 'u', 'l', 'l', 's', ' ', 'n', 'o', ' ', 'p', 'u', 'n', 'c', 'h', 'e', 's', ' ', 'w', 'i', 't', 'h', ' ', 'r', 'e', 'g', 'a', 'r', 'd', 's', ' ', 't', 'o', ' ', 'd', 'r', 'u', 'g', 's', ',', ' ', 's', 'e', 'x', ' ', 'o', 'r', ' ', 'v', 'i', 'o', 'l', 'e', 'n', 'c', 'e', '.', ' ', 'I', 't', 's', ' ', 'i', 's', ' ', 'h', 'a', 'r', 'd', 'c', 'o', 'r', 'e', ',', ' ', 'i', 'n', ' ', 't', 'h', 'e', ' ', 'c', 'l', 'a', 's', 's', 'i', 'c', ' ', 'u', 's', 'e', ' ', 'o', 'f', ' ', 't', 'h', 'e', ' ', 'w', 'o', 'r', 'd', '.', '<', 'b', 'r', ' ', '/', '>', '<', 'b', 'r', ' ', '/', '>', 'I', 't', ' ', 'i', 's', ' ', 'c', 'a', 'l', 'l', 'e', 'd', ' ', 'O', 'Z', ' ', 'a', 's', ' ', 't', 'h', 'a', 't', ' ', 'i', 's', ' ', 't', 'h', 'e', ' ', 'n', 'i', 'c', 'k', 'n', 'a', 'm', 'e', ' ', 'g', 'i', 'v', 'e', 'n', ' ', 't', 'o', ' ', 't', 'h', 'e', ' ', 'O', 's', 'w', 'a', 'l', 'd', ' ', 'M', 'a', 'x', 'i', 'm', 'u', 'm', ' ', 'S', 'e', 'c', 'u', 'r', 'i', 't', 'y', ' ', 'S', 't', 'a', 't', 'e', ' ', 'P', 'e', 'n', 'i', 't', 'e', 'n', 't', 'a', 'r', 'y', '.', ' ', 'I', 't', ' ', 'f', 'o', 'c', 'u', 's', 'e', 's', ' ', 'm', 'a', 'i', 'n', 'l', 'y', ' ', 'o', 'n', ' ', 'E', 'm', 'e', 'r', 'a', 'l', 'd', ' ', 'C', 'i', 't', 'y', ',', ' ', 'a', 'n', ' ', 'e', 'x', 'p', 'e', 'r', 'i', 'm', 'e', 'n', 't', 'a', 'l', ' ', 's', 'e', 'c', 't', 'i', 'o', 'n', ' ', 'o', 'f', ' ', 't', 'h', 'e', ' ', 'p', 'r', 'i', 's', 'o', 'n', ' ', 'w', 'h', 'e', 'r', 'e', ' ', 'a', 'l', 'l', ' ', 't', 'h', 'e', ' ', 'c', 'e', 'l', 'l', 's', ' ', 'h', 'a', 'v', 'e', ' ', 'g', 'l', 'a', 's', 's', ' ', 'f', 'r', 'o', 'n', 't', 's', ' ', 'a', 'n', 'd', ' ', 'f', 'a', 'c', 'e', ' ', 'i', 'n', 'w', 'a', 'r', 'd', 's', ',', ' ', 's', 'o', ' ', 'p', 'r', 'i', 'v', 'a', 'c', 'y', ' ', 'i', 's', ' ', 'n', 'o', 't', ' ', 'h', 'i', 'g', 'h', ' ', 'o', 'n', ' ', 't', 'h', 'e', ' ', 'a', 'g', 'e', 'n', 'd', 'a', '.', ' ', 'E', 'm', ' ', 'C', 'i', 't', 'y', ' ', 'i', 's', ' ', 'h', 'o', 'm', 'e', ' ', 't', 'o', ' ', 'm', 'a', 'n', 'y', '.', '.', 'A', 'r', 'y', 'a', 'n', 's', ',', ' ', 'M', 'u', 's', 'l', 'i', 'm', 's', ',', ' ', 'g', 'a', 'n', 'g', 's', 't', 'a', 's', ',', ' ', 'L', 'a', 't', 'i', 'n', 'o', 's', ',', ' ', 'C', 'h', 'r', 'i', 's', 't', 'i', 'a', 'n', 's', ',', ' ', 'I', 't', 'a', 'l', 'i', 'a', 'n', 's', ',', ' ', 'I', 'r', 'i', 's', 'h', ' ', 'a', 'n', 'd', ' ', 'm', 'o', 'r', 'e', '.', '.', '.', '.', 's', 'o', ' ', 's', 'c', 'u', 'f', 'f', 'l', 'e', 's', ',', ' ', 'd', 'e', 'a', 't', 'h', ' ', 's', 't', 'a', 'r', 'e', 's', ',', ' ', 'd', 'o', 'd', 'g', 'y', ' ', 'd', 'e', 'a', 'l', 'i', 'n', 'g', 's', ' ', 'a', 'n', 'd', ' ', 's', 'h', 'a', 'd', 'y', ' ', 'a', 'g', 'r', 'e', 'e', 'm', 'e', 'n', 't', 's', ' ', 'a', 'r', 'e', ' ', 'n', 'e', 'v', 'e', 'r', ' ', 'f', 'a', 'r', ' ', 'a', 'w', 'a', 'y', '.', '<', 'b', 'r', ' ', '/', '>', '<', 'b', 'r', ' ', '/', '>', 'I', ' ', 'w', 'o', 'u', 'l', 'd', ' ', 's', 'a', 'y', ' ', 't', 'h', 'e', ' ', 'm', 'a', 'i', 'n', ' ', 'a', 'p', 'p', 'e', 'a', 'l', ' ', 'o', 'f', ' ', 't', 'h', 'e', ' ', 's', 'h', 'o', 'w', ' ', 'i', 's', ' ', 'd', 'u', 'e', ' ', 't', 'o', ' ', 't', 'h', 'e', ' ', 'f', 'a', 'c', 't', ' ', 't', 'h', 'a', 't', ' ', 'i', 't', ' ', 'g', 'o', 'e', 's', ' ', 'w', 'h', 'e', 'r', 'e', ' ', 'o', 't', 'h', 'e', 'r', ' ', 's', 'h', 'o', 'w', 's', ' ', 'w', 'o', 'u', 'l', 'd', 'n', \"'\", 't', ' ', 'd', 'a', 'r', 'e', '.', ' ', 'F', 'o', 'r', 'g', 'e', 't', ' ', 'p', 'r', 'e', 't', 't', 'y', ' ', 'p', 'i', 'c', 't', 'u', 'r', 'e', 's', ' ', 'p', 'a', 'i', 'n', 't', 'e', 'd', ' ', 'f', 'o', 'r', ' ', 'm', 'a', 'i', 'n', 's', 't', 'r', 'e', 'a', 'm', ' ', 'a', 'u', 'd', 'i', 'e', 'n', 'c', 'e', 's', ',', ' ', 'f', 'o', 'r', 'g', 'e', 't', ' ', 'c', 'h', 'a', 'r', 'm', ',', ' ', 'f', 'o', 'r', 'g', 'e', 't', ' ', 'r', 'o', 'm', 'a', 'n', 'c', 'e', '.', '.', '.', 'O', 'Z', ' ', 'd', 'o', 'e', 's', 'n', \"'\", 't', ' ', 'm', 'e', 's', 's', ' ', 'a', 'r', 'o', 'u', 'n', 'd', '.', ' ', 'T', 'h', 'e', ' ', 'f', 'i', 'r', 's', 't', ' ', 'e', 'p', 'i', 's', 'o', 'd', 'e', ' ', 'I', ' ', 'e', 'v', 'e', 'r', ' ', 's', 'a', 'w', ' ', 's', 't', 'r', 'u', 'c', 'k', ' ', 'm', 'e', ' ', 'a', 's', ' ', 's', 'o', ' ', 'n', 'a', 's', 't', 'y', ' ', 'i', 't', ' ', 'w', 'a', 's', ' ', 's', 'u', 'r', 'r', 'e', 'a', 'l', ',', ' ', 'I', ' ', 'c', 'o', 'u', 'l', 'd', 'n', \"'\", 't', ' ', 's', 'a', 'y', ' ', 'I', ' ', 'w', 'a', 's', ' ', 'r', 'e', 'a', 'd', 'y', ' ', 'f', 'o', 'r', ' ', 'i', 't', ',', ' ', 'b', 'u', 't', ' ', 'a', 's', ' ', 'I', ' ', 'w', 'a', 't', 'c', 'h', 'e', 'd', ' ', 'm', 'o', 'r', 'e', ',', ' ', 'I', ' ', 'd', 'e', 'v', 'e', 'l', 'o', 'p', 'e', 'd', ' ', 'a', ' ', 't', 'a', 's', 't', 'e', ' ', 'f', 'o', 'r', ' ', 'O', 'z', ',', ' ', 'a', 'n', 'd', ' ', 'g', 'o', 't', ' ', 'a', 'c', 'c', 'u', 's', 't', 'o', 'm', 'e', 'd', ' ', 't', 'o', ' ', 't', 'h', 'e', ' ', 'h', 'i', 'g', 'h', ' ', 'l', 'e', 'v', 'e', 'l', 's', ' ', 'o', 'f', ' ', 'g', 'r', 'a', 'p', 'h', 'i', 'c', ' ', 'v', 'i', 'o', 'l', 'e', 'n', 'c', 'e', '.', ' ', 'N', 'o', 't', ' ', 'j', 'u', 's', 't', ' ', 'v', 'i', 'o', 'l', 'e', 'n', 'c', 'e', ',', ' ', 'b', 'u', 't', ' ', 'i', 'n', 'j', 'u', 's', 't', 'i', 'c', 'e', ' ', '(', 'c', 'r', 'o', 'o', 'k', 'e', 'd', ' ', 'g', 'u', 'a', 'r', 'd', 's', ' ', 'w', 'h', 'o', \"'\", 'l', 'l', ' ', 'b', 'e', ' ', 's', 'o', 'l', 'd', ' ', 'o', 'u', 't', ' ', 'f', 'o', 'r', ' ', 'a', ' ', 'n', 'i', 'c', 'k', 'e', 'l', ',', ' ', 'i', 'n', 'm', 'a', 't', 'e', 's', ' ', 'w', 'h', 'o', \"'\", 'l', 'l', ' ', 'k', 'i', 'l', 'l', ' ', 'o', 'n', ' ', 'o', 'r', 'd', 'e', 'r', ' ', 'a', 'n', 'd', ' ', 'g', 'e', 't', ' ', 'a', 'w', 'a', 'y', ' ', 'w', 'i', 't', 'h', ' ', 'i', 't', ',', ' ', 'w', 'e', 'l', 'l', ' ', 'm', 'a', 'n', 'n', 'e', 'r', 'e', 'd', ',', ' ', 'm', 'i', 'd', 'd', 'l', 'e', ' ', 'c', 'l', 'a', 's', 's', ' ', 'i', 'n', 'm', 'a', 't', 'e', 's', ' ', 'b', 'e', 'i', 'n', 'g', ' ', 't', 'u', 'r', 'n', 'e', 'd', ' ', 'i', 'n', 't', 'o', ' ', 'p', 'r', 'i', 's', 'o', 'n', ' ', 'b', 'i', 't', 'c', 'h', 'e', 's', ' ', 'd', 'u', 'e', ' ', 't', 'o', ' ', 't', 'h', 'e', 'i', 'r', ' ', 'l', 'a', 'c', 'k', ' ', 'o', 'f', ' ', 's', 't', 'r', 'e', 'e', 't', ' ', 's', 'k', 'i', 'l', 'l', 's', ' ', 'o', 'r', ' ', 'p', 'r', 'i', 's', 'o', 'n', ' ', 'e', 'x', 'p', 'e', 'r', 'i', 'e', 'n', 'c', 'e', ')', ' ', 'W', 'a', 't', 'c', 'h', 'i', 'n', 'g', ' ', 'O', 'z', ',', ' ', 'y', 'o', 'u', ' ', 'm', 'a', 'y', ' ', 'b', 'e', 'c', 'o', 'm', 'e', ' ', 'c', 'o', 'm', 'f', 'o', 'r', 't', 'a', 'b', 'l', 'e', ' ', 'w', 'i', 't', 'h', ' ', 'w', 'h', 'a', 't', ' ', 'i', 's', ' ', 'u', 'n', 'c', 'o', 'm', 'f', 'o', 'r', 't', 'a', 'b', 'l', 'e', ' ', 'v', 'i', 'e', 'w', 'i', 'n', 'g', '.', '.', '.', '.', 't', 'h', 'a', 't', 's', ' ', 'i', 'f', ' ', 'y', 'o', 'u', ' ', 'c', 'a', 'n', ' ', 'g', 'e', 't', ' ', 'i', 'n', ' ', 't', 'o', 'u', 'c', 'h', ' ', 'w', 'i', 't', 'h', ' ', 'y', 'o', 'u', 'r', ' ', 'd', 'a', 'r', 'k', 'e', 'r', ' ', 's', 'i', 'd', 'e', '.']\n"
     ]
    },
    {
     "data": {
      "text/markdown": [
       "### Words of the first review"
      ],
      "text/plain": [
       "<IPython.core.display.Markdown object>"
      ]
     },
     "metadata": {},
     "output_type": "display_data"
    },
    {
     "name": "stdout",
     "output_type": "stream",
     "text": [
      "['One', 'of', 'the', 'other', 'reviewers', 'has', 'mentioned', 'that', 'after', 'watching', 'just', '1', 'Oz', 'episode', \"you'll\", 'be', 'hooked.', 'They', 'are', 'right,', 'as', 'this', 'is', 'exactly', 'what', 'happened', 'with', 'me.<br', '/><br', '/>The', 'first', 'thing', 'that', 'struck', 'me', 'about', 'Oz', 'was', 'its', 'brutality', 'and', 'unflinching', 'scenes', 'of', 'violence,', 'which', 'set', 'in', 'right', 'from', 'the', 'word', 'GO.', 'Trust', 'me,', 'this', 'is', 'not', 'a', 'show', 'for', 'the', 'faint', 'hearted', 'or', 'timid.', 'This', 'show', 'pulls', 'no', 'punches', 'with', 'regards', 'to', 'drugs,', 'sex', 'or', 'violence.', 'Its', 'is', 'hardcore,', 'in', 'the', 'classic', 'use', 'of', 'the', 'word.<br', '/><br', '/>It', 'is', 'called', 'OZ', 'as', 'that', 'is', 'the', 'nickname', 'given', 'to', 'the', 'Oswald', 'Maximum', 'Security', 'State', 'Penitentary.', 'It', 'focuses', 'mainly', 'on', 'Emerald', 'City,', 'an', 'experimental', 'section', 'of', 'the', 'prison', 'where', 'all', 'the', 'cells', 'have', 'glass', 'fronts', 'and', 'face', 'inwards,', 'so', 'privacy', 'is', 'not', 'high', 'on', 'the', 'agenda.', 'Em', 'City', 'is', 'home', 'to', 'many..Aryans,', 'Muslims,', 'gangstas,', 'Latinos,', 'Christians,', 'Italians,', 'Irish', 'and', 'more....so', 'scuffles,', 'death', 'stares,', 'dodgy', 'dealings', 'and', 'shady', 'agreements', 'are', 'never', 'far', 'away.<br', '/><br', '/>I', 'would', 'say', 'the', 'main', 'appeal', 'of', 'the', 'show', 'is', 'due', 'to', 'the', 'fact', 'that', 'it', 'goes', 'where', 'other', 'shows', \"wouldn't\", 'dare.', 'Forget', 'pretty', 'pictures', 'painted', 'for', 'mainstream', 'audiences,', 'forget', 'charm,', 'forget', 'romance...OZ', \"doesn't\", 'mess', 'around.', 'The', 'first', 'episode', 'I', 'ever', 'saw', 'struck', 'me', 'as', 'so', 'nasty', 'it', 'was', 'surreal,', 'I', \"couldn't\", 'say', 'I', 'was', 'ready', 'for', 'it,', 'but', 'as', 'I', 'watched', 'more,', 'I', 'developed', 'a', 'taste', 'for', 'Oz,', 'and', 'got', 'accustomed', 'to', 'the', 'high', 'levels', 'of', 'graphic', 'violence.', 'Not', 'just', 'violence,', 'but', 'injustice', '(crooked', 'guards', \"who'll\", 'be', 'sold', 'out', 'for', 'a', 'nickel,', 'inmates', \"who'll\", 'kill', 'on', 'order', 'and', 'get', 'away', 'with', 'it,', 'well', 'mannered,', 'middle', 'class', 'inmates', 'being', 'turned', 'into', 'prison', 'bitches', 'due', 'to', 'their', 'lack', 'of', 'street', 'skills', 'or', 'prison', 'experience)', 'Watching', 'Oz,', 'you', 'may', 'become', 'comfortable', 'with', 'what', 'is', 'uncomfortable', 'viewing....thats', 'if', 'you', 'can', 'get', 'in', 'touch', 'with', 'your', 'darker', 'side.']\n"
     ]
    },
    {
     "data": {
      "text/markdown": [
       "### Rebuilt first review"
      ],
      "text/plain": [
       "<IPython.core.display.Markdown object>"
      ]
     },
     "metadata": {},
     "output_type": "display_data"
    },
    {
     "name": "stdout",
     "output_type": "stream",
     "text": [
      "One of the other reviewers has mentioned that after watching just 1 Oz episode you'll be hooked. They are right, as this is exactly what happened with me.<br /><br />The first thing that struck me about Oz was its brutality and unflinching scenes of violence, which set in right from the word GO. Trust me, this is not a show for the faint hearted or timid. This show pulls no punches with regards to drugs, sex or violence. Its is hardcore, in the classic use of the word.<br /><br />It is called OZ as that is the nickname given to the Oswald Maximum Security State Penitentary. It focuses mainly on Emerald City, an experimental section of the prison where all the cells have glass fronts and face inwards, so privacy is not high on the agenda. Em City is home to many..Aryans, Muslims, gangstas, Latinos, Christians, Italians, Irish and more....so scuffles, death stares, dodgy dealings and shady agreements are never far away.<br /><br />I would say the main appeal of the show is due to the fact that it goes where other shows wouldn't dare. Forget pretty pictures painted for mainstream audiences, forget charm, forget romance...OZ doesn't mess around. The first episode I ever saw struck me as so nasty it was surreal, I couldn't say I was ready for it, but as I watched more, I developed a taste for Oz, and got accustomed to the high levels of graphic violence. Not just violence, but injustice (crooked guards who'll be sold out for a nickel, inmates who'll kill on order and get away with it, well mannered, middle class inmates being turned into prison bitches due to their lack of street skills or prison experience) Watching Oz, you may become comfortable with what is uncomfortable viewing....thats if you can get in touch with your darker side.\n"
     ]
    }
   ],
   "source": [
    "# Print the characters of the first review\n",
    "char_list = []\n",
    "for char in df_raw[\"review\"][0]:\n",
    "    char_list.append(char)\n",
    "\n",
    "printmd(\"### Characters of the first review\")\n",
    "print(char_list)\n",
    "\n",
    "# Print the words of the first review\n",
    "first_review_words = df_raw[\"review\"][0].split(sep=\" \")\n",
    "printmd(\"### Words of the first review\")\n",
    "print(first_review_words)\n",
    "\n",
    "# Rebuild the first review from the list of words\n",
    "first_review_rebuilt = \" \".join(first_review_words)\n",
    "printmd(\"### Rebuilt first review\")\n",
    "print(first_review_rebuilt)\n",
    "\n",
    "assert (\n",
    "    first_review_rebuilt == df_raw[\"review\"][0]\n",
    "), \"The review is not correctly rebuilt\""
   ]
  },
  {
   "cell_type": "markdown",
   "metadata": {},
   "source": [
    "<div class='alert alert-info'>\n",
    "\n",
    "<b> Exercise 1.2.1.2 </b>\n",
    "\n",
    "- Text data usually contains artifacts only relevent for visualization (e.g., HTML tags and special characters) and undesired content such as spelling mistakes. Such elements are not only useless for modeling but can also be harmful as they pollute the relevant information. For each of the following data cleaning operations, write a function to apply them on the IMDB dataset:    \n",
    "    1. Lowering all capital letters.\n",
    "    2. Using the [regex](https://docs.python.org/3/library/re.html) Python library (`re.sub`), substitute (by a space) the patterns associated to Hyperlinks (\"https:something\" or \"http:something\"), Mentions (\"@something\") and HTML elements (\"\\<something>\" or \"\\</something>\").\n",
    "    3. Stop words, i.e commonly occurring words in a language that are considered to have minimal meaning on their own.\n",
    "        * Using <code>stopwords.words</code>, list all stopwords in english. \n",
    "        * Delete stopwords from IMDB movie reviews (you can use [`str.replace`](https://docs.python.org/3/library/stdtypes.html#str.replace))\n",
    "    4. Replace with space any special characters, that is anything other than alpha-numerical characters, such as punctuation and symbols (you can use [isalnum](https://docs.python.org/3/library/stdtypes.html#str.isalnum)).\n",
    "</div>"
   ]
  },
  {
   "cell_type": "code",
   "execution_count": 9,
   "metadata": {},
   "outputs": [
    {
     "data": {
      "text/markdown": [
       "### English stop words"
      ],
      "text/plain": [
       "<IPython.core.display.Markdown object>"
      ]
     },
     "metadata": {},
     "output_type": "display_data"
    },
    {
     "name": "stdout",
     "output_type": "stream",
     "text": [
      "There are 179 stop words in english: \n",
      "\n",
      "['i', 'me', 'my', 'myself', 'we', 'our', 'ours', 'ourselves', 'you', \"you're\", \"you've\", \"you'll\", \"you'd\", 'your', 'yours', 'yourself', 'yourselves', 'he', 'him', 'his', 'himself', 'she', \"she's\", 'her', 'hers', 'herself', 'it', \"it's\", 'its', 'itself', 'they', 'them', 'their', 'theirs', 'themselves', 'what', 'which', 'who', 'whom', 'this', 'that', \"that'll\", 'these', 'those', 'am', 'is', 'are', 'was', 'were', 'be', 'been', 'being', 'have', 'has', 'had', 'having', 'do', 'does', 'did', 'doing', 'a', 'an', 'the', 'and', 'but', 'if', 'or', 'because', 'as', 'until', 'while', 'of', 'at', 'by', 'for', 'with', 'about', 'against', 'between', 'into', 'through', 'during', 'before', 'after', 'above', 'below', 'to', 'from', 'up', 'down', 'in', 'out', 'on', 'off', 'over', 'under', 'again', 'further', 'then', 'once', 'here', 'there', 'when', 'where', 'why', 'how', 'all', 'any', 'both', 'each', 'few', 'more', 'most', 'other', 'some', 'such', 'no', 'nor', 'not', 'only', 'own', 'same', 'so', 'than', 'too', 'very', 's', 't', 'can', 'will', 'just', 'don', \"don't\", 'should', \"should've\", 'now', 'd', 'll', 'm', 'o', 're', 've', 'y', 'ain', 'aren', \"aren't\", 'couldn', \"couldn't\", 'didn', \"didn't\", 'doesn', \"doesn't\", 'hadn', \"hadn't\", 'hasn', \"hasn't\", 'haven', \"haven't\", 'isn', \"isn't\", 'ma', 'mightn', \"mightn't\", 'mustn', \"mustn't\", 'needn', \"needn't\", 'shan', \"shan't\", 'shouldn', \"shouldn't\", 'wasn', \"wasn't\", 'weren', \"weren't\", 'won', \"won't\", 'wouldn', \"wouldn't\"]\n"
     ]
    }
   ],
   "source": [
    "def lower_case(text):\n",
    "    # Lowercase text\n",
    "    lowered_text = text.lower()\n",
    "    return lowered_text\n",
    "\n",
    "\n",
    "def remove_patterns(text):\n",
    "    # replace hyperlinks, mentions and html elements\n",
    "    patterns = \"https?:\\S+|http?:\\S+|@\\S+|<[^<]+?>\"\n",
    "    replacement_text = \" \"\n",
    "    cleaned_text = re.sub(pattern=patterns, repl=replacement_text, string=text)\n",
    "    return cleaned_text\n",
    "\n",
    "\n",
    "printmd(\"### English stop words\")\n",
    "english_stop_words = stopwords.words(\"english\")\n",
    "print(f\"There are {len(english_stop_words)} stop words in english: \\n\")\n",
    "print(english_stop_words)\n",
    "\n",
    "\n",
    "def clean_stop_words(text):\n",
    "    english_stop_words = stopwords.words(\"english\")\n",
    "    kept_words_list = []\n",
    "    for word in text.split():\n",
    "        if word not in english_stop_words:\n",
    "            kept_words_list.append(word)\n",
    "    # return the text without the stop words\n",
    "    return \" \".join(kept_words_list)\n",
    "\n",
    "\n",
    "def clean_non_alphanum(text):\n",
    "    # Remove non alphanumeric characters\n",
    "    clean_characters_list = []\n",
    "    for char in text:\n",
    "        if not char.isalnum():\n",
    "            clean_characters_list.append(\" \")\n",
    "        else:\n",
    "            clean_characters_list.append(char)\n",
    "    return \"\".join(clean_characters_list)"
   ]
  },
  {
   "cell_type": "markdown",
   "metadata": {},
   "source": [
    "<div class='alert alert-info'>\n",
    "\n",
    "<b> Exercise 1.2.1.3 </b>\n",
    "- Apply the previous operations on a copy of the raw dataframe and compare the first review before and after cleaning. Use [`apply`](https://pandas.pydata.org/docs/reference/api/pandas.DataFrame.apply.html) to sequentially apply preprocessing functions (⚠️ **order is important**). \n",
    "</div>"
   ]
  },
  {
   "cell_type": "code",
   "execution_count": 10,
   "metadata": {},
   "outputs": [
    {
     "name": "stderr",
     "output_type": "stream",
     "text": [
      "100%|██████████| 4/4 [00:49<00:00, 12.50s/it]\n"
     ]
    }
   ],
   "source": [
    "# Init cleaned dataframe, we keep the copy of raw dataframe untouched\n",
    "df_clean = deepcopy(df_raw)\n",
    "\n",
    "# Apply operations\n",
    "list_operations = [lower_case, remove_patterns, clean_non_alphanum, clean_stop_words]\n",
    "for op in tqdm(list_operations):\n",
    "    df_clean.review = df_clean.review.apply(op)"
   ]
  },
  {
   "cell_type": "code",
   "execution_count": 11,
   "metadata": {},
   "outputs": [
    {
     "data": {
      "text/markdown": [
       "### First review before cleaning"
      ],
      "text/plain": [
       "<IPython.core.display.Markdown object>"
      ]
     },
     "metadata": {},
     "output_type": "display_data"
    },
    {
     "data": {
      "text/markdown": [
       "One of the other reviewers has mentioned that after watching just 1 Oz episode you'll be hooked. They are right, as this is exactly what happened with me.<br /><br />The first thing that struck me about Oz was its brutality and unflinching scenes of violence, which set in right from the word GO. Trust me, this is not a show for the faint hearted or timid. This show pulls no punches with regards to drugs, sex or violence. Its is hardcore, in the classic use of the word.<br /><br />It is called OZ as that is the nickname given to the Oswald Maximum Security State Penitentary. It focuses mainly on Emerald City, an experimental section of the prison where all the cells have glass fronts and face inwards, so privacy is not high on the agenda. Em City is home to many..Aryans, Muslims, gangstas, Latinos, Christians, Italians, Irish and more....so scuffles, death stares, dodgy dealings and shady agreements are never far away.<br /><br />I would say the main appeal of the show is due to the fact that it goes where other shows wouldn't dare. Forget pretty pictures painted for mainstream audiences, forget charm, forget romance...OZ doesn't mess around. The first episode I ever saw struck me as so nasty it was surreal, I couldn't say I was ready for it, but as I watched more, I developed a taste for Oz, and got accustomed to the high levels of graphic violence. Not just violence, but injustice (crooked guards who'll be sold out for a nickel, inmates who'll kill on order and get away with it, well mannered, middle class inmates being turned into prison bitches due to their lack of street skills or prison experience) Watching Oz, you may become comfortable with what is uncomfortable viewing....thats if you can get in touch with your darker side."
      ],
      "text/plain": [
       "<IPython.core.display.Markdown object>"
      ]
     },
     "metadata": {},
     "output_type": "display_data"
    },
    {
     "data": {
      "text/markdown": [
       "-----"
      ],
      "text/plain": [
       "<IPython.core.display.Markdown object>"
      ]
     },
     "metadata": {},
     "output_type": "display_data"
    },
    {
     "data": {
      "text/markdown": [
       "### First review after cleaning"
      ],
      "text/plain": [
       "<IPython.core.display.Markdown object>"
      ]
     },
     "metadata": {},
     "output_type": "display_data"
    },
    {
     "data": {
      "text/markdown": [
       "one reviewers mentioned watching 1 oz episode hooked right exactly happened first thing struck oz brutality unflinching scenes violence set right word go trust show faint hearted timid show pulls punches regards drugs sex violence hardcore classic use word called oz nickname given oswald maximum security state penitentary focuses mainly emerald city experimental section prison cells glass fronts face inwards privacy high agenda em city home many aryans muslims gangstas latinos christians italians irish scuffles death stares dodgy dealings shady agreements never far away would say main appeal show due fact goes shows dare forget pretty pictures painted mainstream audiences forget charm forget romance oz mess around first episode ever saw struck nasty surreal say ready watched developed taste oz got accustomed high levels graphic violence violence injustice crooked guards sold nickel inmates kill order get away well mannered middle class inmates turned prison bitches due lack street skills prison experience watching oz may become comfortable uncomfortable viewing thats get touch darker side"
      ],
      "text/plain": [
       "<IPython.core.display.Markdown object>"
      ]
     },
     "metadata": {},
     "output_type": "display_data"
    }
   ],
   "source": [
    "# Compare the first review before and after cleaning\n",
    "printmd(\"### First review before cleaning\")\n",
    "printmd(df_raw[\"review\"][0])\n",
    "printmd(\"-----\")\n",
    "printmd(\"### First review after cleaning\")\n",
    "printmd(df_clean[\"review\"][0])"
   ]
  },
  {
   "cell_type": "markdown",
   "metadata": {},
   "source": [
    "**Stemming**\n",
    "\n",
    "<blockquote>\n",
    "In linguistic morphology and information retrieval, stemming is the process of reducing inflected (or sometimes derived) words to their word stem, base or root form—generally a written word form. The stem need not be identical to the morphological root of the word; it is usually sufficient that related words map to the same stem, even if this stem is not in itself a valid root\n",
    "</blockquote>\n",
    "\n",
    "[-- Wikipedia](https://en.wikipedia.org/wiki/Stemming)\n",
    "\n",
    "<div align=\"center\">\n",
    "  <img src=\"figures/stemming.png\" width=\"50%\"/>\n",
    "  <figcaption>Source: Quora</figcaption>\n",
    "</div>\n",
    "\n",
    "<div class='alert alert-info'>\n",
    "\n",
    "<b> Exercise 1.2.2 </b>\n",
    "\n",
    "- NLTK offers several stemmers. Write a function `apply_stemmer` to apply the `Lancaster` stemmer (known for its accuracy for English text).\n",
    "- Apply the stemmer on a copy of the cleaned dataset. Compare the sentences before and after stemming; what do you notice ?\n",
    "\n",
    "<div/>"
   ]
  },
  {
   "cell_type": "code",
   "execution_count": 12,
   "metadata": {},
   "outputs": [],
   "source": [
    "from nltk.stem import LancasterStemmer\n",
    "\n",
    "stemmer = LancasterStemmer()\n",
    "\n",
    "\n",
    "def apply_stemmer(text):\n",
    "    # Split text into words\n",
    "    words = text.split()\n",
    "    # Apply stemming to each word\n",
    "    stemmed_words = [stemmer.stem(word) for word in words]\n",
    "    # Join the stemmed words back into a string\n",
    "    stemmed_text = \" \".join(stemmed_words)\n",
    "    return stemmed_text\n",
    "\n",
    "\n",
    "# Init stem dataframe, we keep the copy the cleaned dataframe untouched\n",
    "df_stem = deepcopy(df_clean)\n",
    "# Apply stemming\n",
    "df_stem.review = df_stem.review.apply(apply_stemmer)"
   ]
  },
  {
   "cell_type": "code",
   "execution_count": 13,
   "metadata": {},
   "outputs": [
    {
     "data": {
      "text/markdown": [
       "### Cleaned first review before stemming"
      ],
      "text/plain": [
       "<IPython.core.display.Markdown object>"
      ]
     },
     "metadata": {},
     "output_type": "display_data"
    },
    {
     "data": {
      "text/markdown": [
       "one reviewers mentioned watching 1 oz episode hooked right exactly happened first thing struck oz brutality unflinching scenes violence set right word go trust show faint hearted timid show pulls punches regards drugs sex violence hardcore classic use word called oz nickname given oswald maximum security state penitentary focuses mainly emerald city experimental section prison cells glass fronts face inwards privacy high agenda em city home many aryans muslims gangstas latinos christians italians irish scuffles death stares dodgy dealings shady agreements never far away would say main appeal show due fact goes shows dare forget pretty pictures painted mainstream audiences forget charm forget romance oz mess around first episode ever saw struck nasty surreal say ready watched developed taste oz got accustomed high levels graphic violence violence injustice crooked guards sold nickel inmates kill order get away well mannered middle class inmates turned prison bitches due lack street skills prison experience watching oz may become comfortable uncomfortable viewing thats get touch darker side"
      ],
      "text/plain": [
       "<IPython.core.display.Markdown object>"
      ]
     },
     "metadata": {},
     "output_type": "display_data"
    },
    {
     "data": {
      "text/markdown": [
       "-----"
      ],
      "text/plain": [
       "<IPython.core.display.Markdown object>"
      ]
     },
     "metadata": {},
     "output_type": "display_data"
    },
    {
     "data": {
      "text/markdown": [
       "### Cleaned first review after stemming"
      ],
      "text/plain": [
       "<IPython.core.display.Markdown object>"
      ]
     },
     "metadata": {},
     "output_type": "display_data"
    },
    {
     "data": {
      "text/markdown": [
       "on review ment watch 1 oz episod hook right exact hap first thing struck oz brut unflinch scen viol set right word go trust show faint heart timid show pul punch regard drug sex viol hardc class us word cal oz nicknam giv oswald maxim sec stat penit focus main emerald city expery sect prison cel glass front fac inward priv high agend em city hom many ary muslim gangsta latino christians it ir scuffl dea star dodgy deal shady agr nev far away would say main ap show due fact goe show dar forget pretty pict paint mainstream audy forget charm forget rom oz mess around first episod ev saw struck nasty sur say ready watch develop tast oz got accustom high level graph viol viol injust crook guard sold nickel inm kil ord get away wel man middl class inm turn prison bitch due lack street skil prison expery watch oz may becom comfort uncomfort view that get touch dark sid"
      ],
      "text/plain": [
       "<IPython.core.display.Markdown object>"
      ]
     },
     "metadata": {},
     "output_type": "display_data"
    }
   ],
   "source": [
    "# Compare the cleaned first review before and after stemming\n",
    "printmd(\"### Cleaned first review before stemming\")\n",
    "printmd(df_clean[\"review\"][0])\n",
    "printmd(\"-----\")\n",
    "printmd(\"### Cleaned first review after stemming\")\n",
    "printmd(df_stem[\"review\"][0])"
   ]
  },
  {
   "cell_type": "markdown",
   "metadata": {},
   "source": [
    "➡️ By grouping together words with similar meanings into their base form, stemming reduces the overall number of unique words the model needs to deal with. Stemming helps to normalize text data by handling variations of words due to tense, plurals, or derivational suffixes, which can be beneficial for tasks where a smaller vocabulary can improve efficiency. However, stemming can sometimes lead to the creation of non-words or words with altered meanings. \n",
    "\n",
    "Lemmatization is another option that is more accurate and preserves meaning better, but can be computationally more expensive.\n",
    "\n",
    "IMDb dataset is simple enough, **so we will not use stemming or lemmatization**. But note that these two operations exist and can be helpful for more complicated dataset or tasks. "
   ]
  },
  {
   "cell_type": "markdown",
   "metadata": {},
   "source": [
    "## 1.3 Data Preparation\n",
    "\n",
    "<div class='alert alert-info'>\n",
    "\n",
    "<b> Exercise 1.3.1 </b>\n",
    "\n",
    "- Split the **clean data** into train (80%) and test (20%) subsets. Use [`train_test_split`](https://scikit-learn.org/stable/modules/generated/sklearn.model_selection.train_test_split.html) with a random seed $=0$.\n",
    "- Ensure the train and test subsets are balanced by visualizing the distributions of sentiments in both subsets. Use a plot to confirm that the sentiment distribution is similar in the two subsets.\n",
    "\n",
    "<p>\n",
    "<b>Note:</b> Typically, datasets are split into three subsets: <strong>train</strong>, <strong>validation</strong>, and <strong>test</strong>. Since we are not performing hyperparameter tuning nor regularization in this exercise, we will omit the validation set. However, when tuning models, always reserve a portion of your data specifically for validation.\n",
    "</p>\n",
    "\n",
    "<div/>"
   ]
  },
  {
   "cell_type": "code",
   "execution_count": 14,
   "metadata": {},
   "outputs": [],
   "source": [
    "from sklearn.model_selection import train_test_split\n",
    "\n",
    "df_train, df_test = train_test_split(df_clean, test_size=0.2, random_state=0)"
   ]
  },
  {
   "cell_type": "code",
   "execution_count": 15,
   "metadata": {},
   "outputs": [
    {
     "data": {
      "image/png": "[encoded data removed]",
      "text/plain": [
       "<Figure size 2000x500 with 2 Axes>"
      ]
     },
     "metadata": {},
     "output_type": "display_data"
    }
   ],
   "source": [
    "# Check the sentiment distribution of the train and test sets\n",
    "fig, ax = plt.subplots(1, 2, figsize=(20, 5))\n",
    "# Plot the sentiment distribution of the train set on the first subplot\n",
    "df_train.sentiment.plot(kind=\"hist\", title=\"Train set sentiment distribution\", ax=ax[0])\n",
    "# Plot the sentiment distribution of the test set on the second subplot\n",
    "df_test.sentiment.plot(kind=\"hist\", title=\"Test set sentiment distribution\", ax=ax[1])\n",
    "plt.show()"
   ]
  },
  {
   "cell_type": "markdown",
   "metadata": {},
   "source": [
    "**Tokenization**\n",
    "\n",
    "To build a model for our task, we need to further preprocess the text by choping it into words or subwords called **tokens**, instead of individual characters.\n",
    "\n",
    "\n",
    "<div align=\"center\">\n",
    "  <img src=\"figures/tokenization.png\" width=\"40%\"/>\n",
    "  <figcaption>Author: Shann Khosla<figcaption/>\n",
    "</div>\n",
    "\n",
    "For our task on IMDb dataset, we will use spaces for token boundaries.\n",
    "\n",
    "<div class=\"alert alert-block alert-warning\">\n",
    "\n",
    "⚠️⚠️⚠️ It's important to note that using spaces to separate words may not be appropriate for all languages. For instance, Chinese writing doesn't use spaces between words, Vietnamese uses spaces even within words, and German often combines multiple words without spaces. Even in English, spaces are not always the best way to tokenize text, as seen in examples like \"hot dog\" or \"#funnyvideos.\" ⚠️⚠️⚠️\n",
    "\n",
    "To address these issues, there are several methods to tokenize and detokenize text at the subword level. We can cite for example Byte Pair Encoding (BPE), Unigram language modeling (ULM), WordPiece and SentencePiece. You can find many state-of-the-art, fast and optimized tokenizes in [the tokenizers library by Hugging Face](https://huggingface.co/docs/tokenizers/index).\n",
    "</div>\n",
    "\n",
    "<div class='alert alert-info'>\n",
    "\n",
    "<b> Exercise 1.3.2 </b>\n",
    "- Perform a <strong>word-level tokenization</strong> using <code>nltk.tokenize.word_tokenize</code>.\n",
    "- Analyze the behavior of <code>word_tokenize</code>. Does it simply split text based on spaces, or does it handle text in a more nuanced way? Provide an explanation based on your observations.    \n",
    "\n",
    "<div/>\n"
   ]
  },
  {
   "cell_type": "code",
   "execution_count": 16,
   "metadata": {},
   "outputs": [
    {
     "name": "stderr",
     "output_type": "stream",
     "text": [
      "[nltk_data] Downloading package punkt_tab to\n",
      "[nltk_data]     C:\\Users\\mouhcine.mendil\\AppData\\Roaming\\nltk_data...\n",
      "[nltk_data]   Package punkt_tab is already up-to-date!\n"
     ]
    }
   ],
   "source": [
    "from nltk.tokenize import word_tokenize\n",
    "import nltk\n",
    "\n",
    "nltk.download(\"punkt_tab\")\n",
    "\n",
    "\n",
    "# tokenization function\n",
    "def tokenize_text(text):\n",
    "    tokens = word_tokenize(text, language=\"english\")\n",
    "    return tokens\n",
    "\n",
    "\n",
    "# Init stem dataframe, we keep the copy the cleaned dataframe untouched\n",
    "df_train_tokenized = deepcopy(df_train)\n",
    "df_test_tokenized = deepcopy(df_test)\n",
    "\n",
    "# Apply tokenization\n",
    "df_train_tokenized.review = df_train_tokenized.review.apply(tokenize_text)\n",
    "df_test_tokenized.review = df_test_tokenized.review.apply(tokenize_text)\n",
    "\n",
    "df_train_tokenized.reset_index(inplace=True, drop=True)\n",
    "df_test_tokenized.reset_index(inplace=True, drop=True)"
   ]
  },
  {
   "cell_type": "code",
   "execution_count": 17,
   "metadata": {},
   "outputs": [
    {
     "name": "stdout",
     "output_type": "stream",
     "text": [
      "['seen', 'movie', 'read', 'book', 'good', 'thing', 'movie', 'parts', 'gets', 'thinking', 'little', 'spiritual', 'subject', 'evolution', 'sincronicity', 'part', 'world', 'however', 'movie', 'immersion', 'easily', 'broken', 'little', 'rapport', 'viewer', 'characters', 'clear', 'book', 'looses', 'lot', 'movie', 'version', 'events', 'suppose', 'show', 'sincronicity', 'taking', 'place', 'almost', 'unrecognizable', 'lot', 'reasoning', 'done', 'viewer', 'see', 'scene', 'indicates', 'coincidence', 'even', 'imagine', 'something', 'greater', 'purpose', 'enlightenment', 'scenes', 'visually', 'poor', 'create', 'better', 'feeling', 'supposed', 'recall', 'enlightenment', 'keanu', 'reeves', 'little', 'buddha', 'well', 'nothing', 'like', 'scenes', 'poorly', 'executed', 'lot', 'scenes', 'really', 'develop', 'story', 'also', 'help', 'creating', 'atmosphere', 'better', 'actors', 'movie', 'namely', 'hector', 'elizondo', 'joaquim', 'de', 'almeida', 'jürgen', 'prochnow', 'can', 'not', 'save', 'first', '2', 'seem', 'gotten', 'scenes', 'characters', 'attempt', 'save', 'movie', 'paid', 'work', 'scenes', 'really', 'necessary', 'help', 'story', 'jürgen', 'good', 'scenes', 'sells', 'evil', 'guy', 'always', 'script', 'help', 'scene', 'first', 'tries', 'convince', 'john', 'matthew', 'settle', 'join', 'bad', 'script', 'execution', 'scene', 'dies', 'explosion', 'absurdly', 'bad', 'executed', 'flashbacks', 'throughout', 'movie', 'can', 'not', 'even', 'commented', 'overall', 'movie', 'big', 'waist', 'time', 'read', 'book', 'read', 'probably', 'billion', 'times', 'better', 'bad', 'write', 'first', 'comment', 'imdb']\n",
      "['seen', 'movie', 'read', 'book', 'good', 'thing', 'movie', 'parts', 'gets', 'thinking', 'little', 'spiritual', 'subject', 'evolution', 'sincronicity', 'part', 'world', 'however', 'movie', 'immersion', 'easily', 'broken', 'little', 'rapport', 'viewer', 'characters', 'clear', 'book', 'looses', 'lot', 'movie', 'version', 'events', 'suppose', 'show', 'sincronicity', 'taking', 'place', 'almost', 'unrecognizable', 'lot', 'reasoning', 'done', 'viewer', 'see', 'scene', 'indicates', 'coincidence', 'even', 'imagine', 'something', 'greater', 'purpose', 'enlightenment', 'scenes', 'visually', 'poor', 'create', 'better', 'feeling', 'supposed', 'recall', 'enlightenment', 'keanu', 'reeves', 'little', 'buddha', 'well', 'nothing', 'like', 'scenes', 'poorly', 'executed', 'lot', 'scenes', 'really', 'develop', 'story', 'also', 'help', 'creating', 'atmosphere', 'better', 'actors', 'movie', 'namely', 'hector', 'elizondo', 'joaquim', 'de', 'almeida', 'jürgen', 'prochnow', 'cannot', 'save', 'first', '2', 'seem', 'gotten', 'scenes', 'characters', 'attempt', 'save', 'movie', 'paid', 'work', 'scenes', 'really', 'necessary', 'help', 'story', 'jürgen', 'good', 'scenes', 'sells', 'evil', 'guy', 'always', 'script', 'help', 'scene', 'first', 'tries', 'convince', 'john', 'matthew', 'settle', 'join', 'bad', 'script', 'execution', 'scene', 'dies', 'explosion', 'absurdly', 'bad', 'executed', 'flashbacks', 'throughout', 'movie', 'cannot', 'even', 'commented', 'overall', 'movie', 'big', 'waist', 'time', 'read', 'book', 'read', 'probably', 'billion', 'times', 'better', 'bad', 'write', 'first', 'comment', 'imdb']\n"
     ]
    }
   ],
   "source": [
    "for i in range(len(df_train_tokenized)):\n",
    "    # show elements that are different df_train_tokenized.review.iloc[i] and df_train.review.iloc[i].split()\n",
    "    if not df_train_tokenized.review.iloc[i] == df_train.review.iloc[i].split():\n",
    "        print(df_train_tokenized.review.iloc[i])\n",
    "        print(df_train.review.iloc[i].split())\n",
    "        break"
   ]
  },
  {
   "cell_type": "markdown",
   "metadata": {},
   "source": [
    "➡️ Among other features, the word_tokenize tokenizer treats certain combinations, such as cannot, as two separate tokens (can and not). This behavior contributes to a slight difference in output, even when the text has been carefully cleaned. Such differences arise because word_tokenize applies linguistic rules, distinguishing it from a straightforward text splitter that only separates based on spaces.\n",
    "\n",
    "-----"
   ]
  },
  {
   "cell_type": "markdown",
   "metadata": {},
   "source": [
    "Here's a quick overview of some important NLP terminology:\n",
    "\n",
    "- **Document**: a single sample text in the dataset (e.g., a single movie review).\n",
    "\n",
    "- **Corpus**:  a large collection of documents (reviews) in the dataset.\n",
    "\n",
    "- **Vocabulary**:  The complete set of unique tokens for the training corpus. The vocabulary is a subset of the words used for training that might exist in the broader corpus, and should therefore be comprehensive to avoid encountering a word not in its vocabulary (i.e.,  Out-of-Vocabulary words). \n",
    "\n",
    "<div class=\"alert alert-block alert-warning\">\n",
    "⚠️ Usually, limitation are applied to the vocabulary size which typically involves selecting the most frequent tokens, since it’s unlikely that very rare words will be important for the task. Limiting the vocabulary size will reduce the number of parameters the model needs to learn. \n",
    "\n",
    "In real-world scenarios, we cannot precisely predict the tokens we will encounter during operation. Therefore, to avoid bias, you should construct the vocabulary (and corpus) based solely on your **training set**.\n",
    "</div>\n",
    "\n",
    "<div class='alert alert-info'>\n",
    "<b> Exercise 1.3.3 </b>\n",
    "\n",
    "* Recover all the tokens of the training corpus in a list. We recommand using [`pandas.DataFrame.explode`](https://pandas.pydata.org/docs/reference/api/pandas.DataFrame.explode.html).\n",
    "* Count the number of the unique tokens that can constitute the full vocabulary. \n",
    "* Reduce the vocabulary to the 10000 most frequent tokens \n",
    "* Store the result in a dictionnary `vocab_token2index` where each token (key) is associated a unique integer id (for example a unique value between 0 and 9999).\n",
    "<div/>"
   ]
  },
  {
   "cell_type": "markdown",
   "metadata": {},
   "source": [
    "<div class='alert alert-info'>\n",
    "<b> Exercise 1.3.3 </b>\n",
    "\n",
    "* Recover all the tokens from the training corpus and store them in a list. We recommend using [`pandas.DataFrame.explode`](https://pandas.pydata.org/docs/reference/api/pandas.DataFrame.explode.html).\n",
    "* Count the number of unique tokens that constitute the full vocabulary.\n",
    "* Reduce the vocabulary to the 10,000 most frequent tokens.\n",
    "* Store the result in a dictionary `vocab_token2index`, where each token (key) is assigned a unique integer ID (for example, a value between 0 and 9999).\n",
    "\n",
    "</div>\n"
   ]
  },
  {
   "cell_type": "code",
   "execution_count": 18,
   "metadata": {},
   "outputs": [
    {
     "name": "stdout",
     "output_type": "stream",
     "text": [
      "The number of tokens in the full vocabulary is: 92446\n",
      "The number of tokens in the filtered vocabulary is: 10000\n"
     ]
    }
   ],
   "source": [
    "# extract all tokens from df_train_tokenized\n",
    "training_tokens = df_train_tokenized.review.explode(\"review\")\n",
    "\n",
    "# Count the number of tokens in the vocabulary\n",
    "print(f\"The number of tokens in the full vocabulary is: {len(set(training_tokens))}\")\n",
    "\n",
    "# Reduce size to the 10000th most frequent\n",
    "vocabulary = training_tokens.value_counts()[:10000]\n",
    "\n",
    "# token to index dict\n",
    "vocab_token2index = {token: idx for idx, token in enumerate(vocabulary.keys())}\n",
    "\n",
    "# Count the number of tokens in the limited vocabulary\n",
    "print(f\"The number of tokens in the filtered vocabulary is: {len(vocab_token2index)}\")"
   ]
  },
  {
   "cell_type": "markdown",
   "metadata": {},
   "source": [
    "### Text vectorization\n",
    "\n",
    "Text Vectorization consists of converting textual data into numerical representations. This makes it possible to process textual data in machine learning algorithms that typically work with numerical values. Common vectorization techniques include:\n",
    "\n",
    "* **One-Hot Encoding (OHE)**: represents a token as a binary vector that has the size of the vocabulary. Each token is assigned a unique position in the vector, corresponding to its index in the vocabulary. In the relevant position, the vector has $1$ to indicate the token's presence and $0$ otherwise. This approach is simple but turns out to be inefficient for large vocabularies. For instance, if there are 50,000 tokens in the vocabulary, one-hot encoding would create a 50,000-dimensional **sparse** vector (which mostly contains zeros) per token. If we need a encoding at the document level, a strategy needs to be adopted to aggregate the one-hot representations of the tokens composing the documents.  \n",
    "\n",
    "* **Bag-of-Words (BoW)**: represents text data as a numerical vector, where each unique word in the vocabulary corresponds to a dimension in the vector space. Unlike one-hot encoding, which uses binary values to indicate the presence of a single token, BoW counts the occurrences of each token in a document. This representation summarizes the document's content while ignoring token order, context, and semantics.\n",
    "\n",
    "* **Term Frequency- Inverse Document Frequency (TF-IDF)**:is a numerical statistic used to evaluate the importance of a token (word or term) in a document relative to a collection of documents (corpus). It scores a token by multiplying its Term Frequency (TF) by its Inverse Document Frequency (IDF):\n",
    "    * Term Frequency (TF): The frequency of a token $t$ in a document $d$, normalized by the total number of tokens in the document $d$:\n",
    "    $$TF(t, d)= \\frac{\\text{Number of times the token $t$ appears in the document $d$}}{\\text{Total number of tokens in document $d$}}$$\n",
    "    * Inverse Document Frequency (IDF): A measure of how unique or rare a token $t$ is across the corpus. Tokens that appear in fewer documents (e.g., technical terms) are assigned higher importance than those common in all documents (e.g., stop words like \"a,\" \"the\").\n",
    "    $$IDF(t)= \\log(\\frac{\\text{Number of documents in the corpus}}{\\text{Number of documents in the corpus containing the token $t$}})$$\n",
    "    * The TF-IDF The TF-IDF score of a token $t$ in a document $d$ is the product of its TF and IDF values:\n",
    "    $$TF\\text{-}IDF(t, d) = TF(t, d) \\cdot IDF(t)$$\n",
    "\n",
    "* **Embeddings**: An embedding is a numerical representation of complex data, where each token (e.g., word or phrase) is represented as a vector in an $n$-dimensional space. Unlike traditional vectorization techniques like Bag-of-Words or TF-IDF, embeddings are typically compact, dense, and highly informative representations. One of the main advantages of embeddings is their ability to encode semantic relationships. This means that words with similar meanings (synonyms) are represented by vectors that are closer together in the $n$-dimensional space. There are many technique to efficiently learn embeddings in an unsupervised way, some of the most popular **word embedding models** are Word2vec, GloVe, fastText, ELMo and BERT. **You can find online already pretrained models for these popular embeddings**.  \n",
    "<div align=\"center\">\n",
    "<img src=\"figures/taxonomy.png\"/>\n",
    "<div/>"
   ]
  },
  {
   "cell_type": "markdown",
   "metadata": {},
   "source": [
    "#### Traditional Encoders\n",
    "\n",
    "Let's first explore traditional encoding techniques on our data, including BoW and TF-IDF. Keep in mind that we can flexibly choose the encoding technique that goes with our classification models (remember, our goal is to perform sentiment analysis on IMDb reviews).  \n",
    "\n",
    "In the next section, we will spend some time on embedding to understand and visualize how they process the data.\n",
    "\n",
    "</div>\n",
    "<div class='alert alert-info'>\n",
    "<b> Exercise 1.3.4 </b>\n",
    "\n",
    "* Implement the **Bag-of-Words (BoW) vectorizer** using the [CountVectorizer](https://scikit-learn.org/stable/modules/generated/sklearn.feature_extraction.text.CountVectorizer.html) from scikit-learn.\n",
    "* Apply the BoW vectorization on the training data.\n",
    "* Verify that the first reviews in the training set have been correctly vectorized. How can you confirm this?  \n",
    "</div>\n"
   ]
  },
  {
   "cell_type": "code",
   "execution_count": 19,
   "metadata": {},
   "outputs": [
    {
     "name": "stderr",
     "output_type": "stream",
     "text": [
      "C:\\Users\\mouhcine.mendil\\AppData\\Roaming\\Python\\Python310\\site-packages\\sklearn\\feature_extraction\\text.py:517: UserWarning: The parameter 'token_pattern' will not be used since 'tokenizer' is not None'\n",
      "  warnings.warn(\n"
     ]
    }
   ],
   "source": [
    "from sklearn.feature_extraction.text import CountVectorizer\n",
    "\n",
    "bow_encoder = CountVectorizer(\n",
    "    vocabulary=vocab_token2index, tokenizer=lambda x: x, preprocessor=lambda x: x\n",
    ")\n",
    "X_train_bow = bow_encoder.fit_transform(df_train_tokenized.review)\n",
    "y_train = df_train_tokenized.sentiment"
   ]
  },
  {
   "cell_type": "code",
   "execution_count": 20,
   "metadata": {},
   "outputs": [
    {
     "data": {
      "text/markdown": [
       "### Review"
      ],
      "text/plain": [
       "<IPython.core.display.Markdown object>"
      ]
     },
     "metadata": {},
     "output_type": "display_data"
    },
    {
     "name": "stdout",
     "output_type": "stream",
     "text": [
      "redeeming quality movie otherwise insults viewer intelligence losing track time plot reason produced plus guy glasses ever got gig hollywood beyond\n"
     ]
    },
    {
     "data": {
      "text/markdown": [
       "### Number of tokens in the review and in the vectorized version"
      ],
      "text/plain": [
       "<IPython.core.display.Markdown object>"
      ]
     },
     "metadata": {},
     "output_type": "display_data"
    },
    {
     "name": "stdout",
     "output_type": "stream",
     "text": [
      "Number of tokens in the review: 21\n",
      "Number of tokens in the vectorized review: 21\n"
     ]
    },
    {
     "data": {
      "text/markdown": [
       "### Check if the tokens are the same"
      ],
      "text/plain": [
       "<IPython.core.display.Markdown object>"
      ]
     },
     "metadata": {},
     "output_type": "display_data"
    },
    {
     "data": {
      "text/plain": [
       "True"
      ]
     },
     "execution_count": 20,
     "metadata": {},
     "output_type": "execute_result"
    }
   ],
   "source": [
    "# Verify the vectorized data\n",
    "# --------------------------\n",
    "\n",
    "review_index = 0\n",
    "\n",
    "# get the review\n",
    "selected_review = df_train_tokenized.review.iloc[review_index]\n",
    "printmd(\"### Review\")\n",
    "print(\" \".join(selected_review))\n",
    "\n",
    "# Get vectorized review\n",
    "vectorized_review = X_train_bow[review_index].toarray().flatten()\n",
    "\n",
    "# Compared the number of tokens in reviewn and in the vectorized version\n",
    "printmd(\"### Number of tokens in the review and in the vectorized version\")\n",
    "print(f\"Number of tokens in the review: {len(selected_review)}\")\n",
    "print(f\"Number of tokens in the vectorized review: {vectorized_review.sum()}\")\n",
    "\n",
    "# check if the tokens are the same\n",
    "printmd(\"### Check if the tokens are the same\")\n",
    "filtered_vocab = [\n",
    "    token for token, idx in vocab_token2index.items() if vectorized_review[idx] > 0\n",
    "]\n",
    "set(filtered_vocab) == set(selected_review)"
   ]
  },
  {
   "cell_type": "markdown",
   "metadata": {},
   "source": [
    "</div>\n",
    "<div class='alert alert-info'>\n",
    "<b> Exercise 1.3.5 </b>\n",
    "\n",
    "* Implement the **TF-IDF vectorizer** using the [TfidfVectorizer](https://scikit-learn.org/stable/modules/generated/sklearn.feature_extraction.text.TfidfVectorizer.html) from scikit-learn.\n",
    "* Apply the TF-IDF vectorization on the training data.\n",
    "* Pick some reviews and print their 10 most important tokens based on their TF-IDF scores.  \n",
    "* Reflect: Can you infer whether the associated sentiment is positive or negative based on the most important tokens?\n",
    "\n",
    "</div>\n"
   ]
  },
  {
   "cell_type": "code",
   "execution_count": 21,
   "metadata": {},
   "outputs": [],
   "source": [
    "from sklearn.feature_extraction.text import TfidfVectorizer\n",
    "\n",
    "tfidf_encoder = TfidfVectorizer(\n",
    "    vocabulary=vocab_token2index, tokenizer=lambda x: x, preprocessor=lambda x: x\n",
    ")\n",
    "X_train_tfidf = tfidf_encoder.fit_transform(df_train_tokenized.review)\n",
    "y_train = df_train_tokenized.sentiment\n",
    "\n",
    "X_train_tfidf_array = X_train_tfidf.toarray()"
   ]
  },
  {
   "cell_type": "code",
   "execution_count": 22,
   "metadata": {},
   "outputs": [
    {
     "data": {
      "text/markdown": [
       "### Top 10 tokens for the sample 0"
      ],
      "text/plain": [
       "<IPython.core.display.Markdown object>"
      ]
     },
     "metadata": {},
     "output_type": "display_data"
    },
    {
     "name": "stdout",
     "output_type": "stream",
     "text": [
      "['gig' 'insults' 'glasses' 'losing' 'intelligence' 'redeeming' 'track'\n",
      " 'produced' 'plus' 'otherwise']\n",
      "Sentiment: negative\n"
     ]
    },
    {
     "data": {
      "text/markdown": [
       "### Top 10 tokens for the sample 1"
      ],
      "text/plain": [
       "<IPython.core.display.Markdown object>"
      ]
     },
     "metadata": {},
     "output_type": "display_data"
    },
    {
     "name": "stdout",
     "output_type": "stream",
     "text": [
      "['rice' 'chronicles' 'anne' 'insult' 'vampire' 'fans' 'book' 'butchered'\n",
      " 'compliment' 'associate']\n",
      "Sentiment: negative\n"
     ]
    },
    {
     "data": {
      "text/markdown": [
       "### Top 10 tokens for the sample 20"
      ],
      "text/plain": [
       "<IPython.core.display.Markdown object>"
      ]
     },
     "metadata": {},
     "output_type": "display_data"
    },
    {
     "name": "stdout",
     "output_type": "stream",
     "text": [
      "['absorbing' 'choppy' 'flair' 'penn' 'principal' 'weight' 'stealing'\n",
      " 'every' 'revealed' 'frame']\n",
      "Sentiment: positive\n"
     ]
    }
   ],
   "source": [
    "vocab_tokens = np.array(list(vocab_token2index.keys()))\n",
    "sample_ids = [0, 1, 20]\n",
    "for sample_id in sample_ids:\n",
    "    args = np.argsort(X_train_tfidf_array[sample_id])[::-1]\n",
    "    printmd(f\"### Top 10 tokens for the sample {sample_id}\")\n",
    "    print(vocab_tokens[args[:10]])\n",
    "    sentiment = y_train[sample_id]\n",
    "    print(f\"Sentiment: {'positive' if sentiment == 1 else 'negative'}\")"
   ]
  },
  {
   "cell_type": "markdown",
   "metadata": {},
   "source": [
    "## 1.4  Word Embeddings"
   ]
  },
  {
   "cell_type": "markdown",
   "metadata": {},
   "source": [
    "Let's learn how to use word embedding models and explore some interesting features on specific examples.\n",
    "\n",
    "</div>\n",
    "<div class='alert alert-info'>\n",
    "<b> Exercise 1.4.1 </b>\n",
    "\n",
    "\n",
    "* Using gensim [downloader](https://radimrehurek.com/gensim/downloader.html), load a pretrained word embedding model. You can find the list of available models [here](https://github.com/piskvorky/gensim-data?tab=readme-ov-file#models) (suggestion: start with `glove-wiki-gigaword-100`).\n",
    "\n",
    "* Use the word embedding model to vectorize the following tokens: `[\"man\", \"woman\", \"king\", \"queen\", \"prince\", \"princess\", \"actor\", \"actress\", \"movies\"]`\n",
    "\n",
    "* What is the dimension of the embedding space ? \n",
    "\n",
    "* Try loading another model and compare the size of the embedding vectors.\n",
    "\n",
    "<div/>"
   ]
  },
  {
   "cell_type": "code",
   "execution_count": 23,
   "metadata": {},
   "outputs": [
    {
     "name": "stdout",
     "output_type": "stream",
     "text": [
      "Loading embedding model...\n"
     ]
    }
   ],
   "source": [
    "import gensim.downloader as api\n",
    "\n",
    "# Embedding model\n",
    "print(\"Loading embedding model...\")\n",
    "embedding_model = api.load(\"glove-wiki-gigaword-100\")"
   ]
  },
  {
   "cell_type": "code",
   "execution_count": 24,
   "metadata": {},
   "outputs": [
    {
     "data": {
      "text/markdown": [
       "The dimension of the embeddings is: 100"
      ],
      "text/plain": [
       "<IPython.core.display.Markdown object>"
      ]
     },
     "metadata": {},
     "output_type": "display_data"
    }
   ],
   "source": [
    "words = [\n",
    "    \"man\",\n",
    "    \"woman\",\n",
    "    \"king\",\n",
    "    \"queen\",\n",
    "    \"prince\",\n",
    "    \"princess\",\n",
    "    \"actor\",\n",
    "    \"actress\",\n",
    "    \"movies\",\n",
    "]\n",
    "\n",
    "# Get the vectors for the words\n",
    "word_embeddings = np.array([embedding_model[word] for word in words])\n",
    "printmd(f\"The dimension of the embeddings is: {word_embeddings.shape[-1]}\")"
   ]
  },
  {
   "cell_type": "markdown",
   "metadata": {},
   "source": [
    "Word embeddings often have hundreds (or even thousands) of dimensions that capture the meaning and relationships of words. However, such high-dimensional objects are difficult to visualize directly.\n",
    "\n",
    "There is a way to visualize these vectors using machine learning techniques for dimensionality reduction such as Principle Component Analysis (PCA). We will project the high-dimensional word embeddings into a 2D space, while preserving the relative distances between similar words. This helps visualize semantic relationships embedded in the original high-dimensional space. \n",
    "\n",
    "<div class=\"alert alert-block alert-warning\">\n",
    "\n",
    "⚠️ BoW and TF-IDF vectorizations can also be visualized using dimensionality reduction. But since they don't capture semantic relationships, the distance between words doesn't necessarily represent their actual similarities in meaning. ⚠️\n",
    "\n",
    "</div>\n",
    "\n",
    "</div>\n",
    "<div class='alert alert-info'>\n",
    "<b> Exercise 1.4.2 </b>\n",
    "\n",
    "* Use [PCA](https://scikit-learn.org/stable/modules/generated/sklearn.decomposition.PCA.html) to project the embeddings of the previous exercise into a 2D space.\n",
    "* Visualize the 2D word embeddings using a scatter plot.\n",
    "* Compute the vector `mystery_embedding=embedding(\"actor\")-embedding(\"man\")+embedding(\"woman\")`. Project it in 2D using PCA and add it to the previous scatter plot.\n",
    "* Interpret the resulting vector `mystery_embedding` and find its most similar word using [`similar_by_vector`](https://radimrehurek.com/gensim/models/keyedvectors.html#gensim.models.keyedvectors.KeyedVectors.similar_by_vector)?\n",
    "* Reflect: do arithmetic operations on word embeddings carry semantic meaning?\n",
    "<div/>"
   ]
  },
  {
   "cell_type": "code",
   "execution_count": 25,
   "metadata": {},
   "outputs": [
    {
     "data": {
      "image/png": "[encoded data removed]",
      "text/plain": [
       "<Figure size 500x500 with 1 Axes>"
      ]
     },
     "metadata": {},
     "output_type": "display_data"
    },
    {
     "data": {
      "text/markdown": [
       "The most similar word to the mystery embedding is: actress"
      ],
      "text/plain": [
       "<IPython.core.display.Markdown object>"
      ]
     },
     "metadata": {},
     "output_type": "display_data"
    }
   ],
   "source": [
    "from sklearn.decomposition import PCA\n",
    "\n",
    "# Init PCA object\n",
    "pca = PCA(n_components=2)\n",
    "# fit/project embeddings in 2D\n",
    "projected_embeddings = pca.fit_transform(word_embeddings)\n",
    "\n",
    "mystery_embedding = word_embeddings[-3] + word_embeddings[1] - word_embeddings[0]\n",
    "mystery_embedding_projected = pca.transform(mystery_embedding.reshape(1, -1))\n",
    "\n",
    "# add mystery embedding to the words\n",
    "if \"mystery\" not in words:\n",
    "    words.append(\"mystery\")\n",
    "projected_embeddings = np.vstack([projected_embeddings, mystery_embedding_projected])\n",
    "\n",
    "# Plot the embeddings\n",
    "plt.figure(figsize=(5, 5))\n",
    "plt.scatter(projected_embeddings[:, 0], projected_embeddings[:, 1], edgecolor=\"k\")\n",
    "\n",
    "for i, word in enumerate(words):\n",
    "    plt.annotate(word, (projected_embeddings[i, 0], projected_embeddings[i, 1]))\n",
    "\n",
    "plt.title(\"PCA projection of word embeddings\")\n",
    "plt.show()\n",
    "\n",
    "# Most similar word to the mystery embedding\n",
    "most_similar_word = embedding_model.similar_by_vector(mystery_embedding, topn=1)[0][0]\n",
    "printmd(f\"The most similar word to the mystery embedding is: {most_similar_word}\")"
   ]
  },
  {
   "cell_type": "markdown",
   "metadata": {},
   "source": [
    "Now that we’ve explored word-level embeddings, let’s move on to **document embeddings**. Instead of representing individual words, we’ll generate embeddings for entire IMDb reviews using **Doc2Vec**.\n",
    "\n",
    "</div>\n",
    "<div class='alert alert-info'>\n",
    "<b> Exercise 1.4.3 </b>\n",
    "\n",
    "* Complete the code below to initialize and train [Gensim Doc2Vec](https://radimrehurek.com/gensim/models/doc2vec.html) model. \n",
    "* Generate vector embeddings for the training documents.\n",
    "* What is the size of the embeddings?\n",
    "<div/>\n"
   ]
  },
  {
   "cell_type": "code",
   "execution_count": 26,
   "metadata": {},
   "outputs": [
    {
     "name": "stdout",
     "output_type": "stream",
     "text": [
      "Init Doc2Vec model...\n",
      "Building vocabulary...\n",
      "Training the model...\n",
      "Infer vectors for the training set...\n"
     ]
    }
   ],
   "source": [
    "from gensim.models.doc2vec import Doc2Vec, TaggedDocument\n",
    "\n",
    "# Tag the reviews\n",
    "tagged_reviews = [\n",
    "    TaggedDocument(words=review, tags=[idx])\n",
    "    for idx, review in enumerate(df_train_tokenized.review)\n",
    "]\n",
    "\n",
    "# Init Doc2Vec model\n",
    "print(\"Init Doc2Vec model...\")\n",
    "doc2vec_encoder = Doc2Vec(vector_size=100, window=5, min_count=1, workers=4, epochs=20)\n",
    "# Build vocabulary\n",
    "print(\"Building vocabulary...\")\n",
    "doc2vec_encoder.build_vocab(tagged_reviews)\n",
    "# Train the model\n",
    "print(\"Training the model...\")\n",
    "doc2vec_encoder.train(\n",
    "    tagged_reviews,\n",
    "    total_examples=doc2vec_encoder.corpus_count,\n",
    "    epochs=doc2vec_encoder.epochs,\n",
    ")\n",
    "\n",
    "# Infer vectors for the training set\n",
    "print(\"Infer vectors for the training set...\")\n",
    "X_train_doc2vec = np.array(\n",
    "    [doc2vec_encoder.infer_vector(review) for review in df_train_tokenized.review]\n",
    ")"
   ]
  },
  {
   "cell_type": "markdown",
   "metadata": {},
   "source": [
    "#### Summing Up\n",
    "\n",
    "In this part, we explored various methods to vectorize our documents. Importantly, we ensured that the vocabulary was extracted, and the encoders were trained exclusively on the training data. This is crucial to avoid leaking information from the test set, which could lead to a biased evaluation of model performance.\n",
    "\n",
    "Let’s refactor the code to create a reusable function that utilizes the pre-fitted vectorizers. This function will be specifically useful later for vectorizing the test data, ensuring consistency in our evaluation process."
   ]
  },
  {
   "cell_type": "code",
   "execution_count": 27,
   "metadata": {},
   "outputs": [],
   "source": [
    "def vectorize_data(df_reviews, method):\n",
    "    \"\"\"\n",
    "    Vectorize the data using the specified method\n",
    "    Args:\n",
    "        df_reviews: pd.Series, reviews to vectorize\n",
    "        method: str, method to use for vectorization (\"bow\", \"tfidf\" or \"doc2vec\")\n",
    "    Returns:\n",
    "        X: np.array, vectorized data\n",
    "    \"\"\"\n",
    "    if method == \"bow\":\n",
    "        X = bow_encoder.transform(df_reviews)\n",
    "    elif method == \"tfidf\":\n",
    "        X = tfidf_encoder.transform(df_reviews)\n",
    "    elif method == \"doc2vec\":\n",
    "        X = np.array([doc2vec_encoder.infer_vector(review) for review in df_reviews])\n",
    "    else:\n",
    "        raise ValueError(\"Unknown method\")\n",
    "    return X"
   ]
  },
  {
   "cell_type": "markdown",
   "metadata": {},
   "source": [
    "## 1.5 Classification\n",
    "\n",
    "We have pre-fitted our vectorizers on the training data, it's time to apply them to the test set.\n",
    "\n",
    "<div class='alert alert-info'>\n",
    "<b> Exercise 1.5.1 </b>\n",
    "\n",
    "* Ensure you are using clean tokenized test data before vectorization.\n",
    "* Vectorize the tokenized test data using the pre-fitted vectorizers for:\n",
    "  - Bag of Words (BoW)\n",
    "  - TF-IDF\n",
    "  - Doc2Vec\n",
    "\n",
    "* Assign the sentiment labels from the test data to a variable `y_test`.\n",
    "\n",
    "<div/>"
   ]
  },
  {
   "cell_type": "code",
   "execution_count": 28,
   "metadata": {},
   "outputs": [
    {
     "name": "stdout",
     "output_type": "stream",
     "text": [
      "BoW vectorization ...\n",
      "TF-IDF vectorization ...\n",
      "Doc2Vec vectorization ...\n"
     ]
    }
   ],
   "source": [
    "X_test = {}\n",
    "\n",
    "print(\"BoW vectorization ...\")\n",
    "X_test[\"bow\"] = vectorize_data(df_test_tokenized.review, \"bow\")\n",
    "print(\"TF-IDF vectorization ...\")\n",
    "X_test[\"tfidf\"] = vectorize_data(df_test_tokenized.review, \"tfidf\")\n",
    "print(\"Doc2Vec vectorization ...\")\n",
    "X_test[\"doc2vec\"] = vectorize_data(df_test_tokenized.review, \"doc2vec\")\n",
    "\n",
    "# Get the target\n",
    "y_test = df_test_tokenized.sentiment\n",
    "\n",
    "X_train = {\n",
    "    \"bow\": X_train_bow,\n",
    "    \"tfidf\": X_train_tfidf,\n",
    "    \"doc2vec\": X_train_doc2vec,\n",
    "}"
   ]
  },
  {
   "cell_type": "markdown",
   "metadata": {},
   "source": [
    "<div class='alert alert-info'>\n",
    "<b> Exercise 1.5.2 </b>\n",
    "\n",
    "- Train two classifier models: **Logistic Regression** and **Random Forest** for each of the following vectorization techniques:\n",
    "  - Bag of Words (BoW)\n",
    "  - TF-IDF\n",
    "  - Doc2Vec\n",
    "\n",
    "  This results in a total of **six models**. Organize these models in a nested dictionary structure, where:\n",
    "  - The first level of the dictionary is indexed by the **model name** (e.g., `\"logistic_regression\"`, `\"random_forest\"`).\n",
    "  - The second level is indexed by the **vectorization technique** (e.g., `\"bow\"`, `\"tfidf\"`, `\"doc2vec\"`).\n",
    "\n",
    "- Evaluate all trained models on the **test data**:\n",
    "  1. Compute the **accuracy** for each model.\n",
    "  2. Display the **confusion matrix** for each model to analyze their performance in detail.\n",
    "\n",
    "<div/>\n"
   ]
  },
  {
   "cell_type": "code",
   "execution_count": 29,
   "metadata": {},
   "outputs": [],
   "source": [
    "models = {\n",
    "    \"logistic_regression\": {\n",
    "        \"bow\": None,\n",
    "        \"tfidf\": None,\n",
    "        \"doc2vec\": None,\n",
    "    },\n",
    "    \"random_forest\": {\n",
    "        \"bow\": None,\n",
    "        \"tfidf\": None,\n",
    "        \"doc2vec\": None,\n",
    "    },\n",
    "}"
   ]
  },
  {
   "cell_type": "code",
   "execution_count": 30,
   "metadata": {},
   "outputs": [
    {
     "data": {
      "text/markdown": [
       "-------"
      ],
      "text/plain": [
       "<IPython.core.display.Markdown object>"
      ]
     },
     "metadata": {},
     "output_type": "display_data"
    },
    {
     "name": "stderr",
     "output_type": "stream",
     "text": [
      "C:\\Users\\mouhcine.mendil\\AppData\\Roaming\\Python\\Python310\\site-packages\\sklearn\\linear_model\\_logistic.py:465: ConvergenceWarning: lbfgs failed to converge (status=1):\n",
      "STOP: TOTAL NO. of ITERATIONS REACHED LIMIT.\n",
      "\n",
      "Increase the number of iterations (max_iter) or scale the data as shown in:\n",
      "    https://scikit-learn.org/stable/modules/preprocessing.html\n",
      "Please also refer to the documentation for alternative solver options:\n",
      "    https://scikit-learn.org/stable/modules/linear_model.html#logistic-regression\n",
      "  n_iter_i = _check_optimize_result(\n"
     ]
    },
    {
     "data": {
      "text/markdown": [
       "### logistic_regression classification report for bow"
      ],
      "text/plain": [
       "<IPython.core.display.Markdown object>"
      ]
     },
     "metadata": {},
     "output_type": "display_data"
    },
    {
     "name": "stdout",
     "output_type": "stream",
     "text": [
      "              precision    recall  f1-score   support\n",
      "\n",
      "           0       0.87      0.87      0.87      5035\n",
      "           1       0.87      0.87      0.87      4965\n",
      "\n",
      "    accuracy                           0.87     10000\n",
      "   macro avg       0.87      0.87      0.87     10000\n",
      "weighted avg       0.87      0.87      0.87     10000\n",
      "\n"
     ]
    },
    {
     "data": {
      "text/markdown": [
       "### logistic_regression classification report for tfidf"
      ],
      "text/plain": [
       "<IPython.core.display.Markdown object>"
      ]
     },
     "metadata": {},
     "output_type": "display_data"
    },
    {
     "name": "stdout",
     "output_type": "stream",
     "text": [
      "              precision    recall  f1-score   support\n",
      "\n",
      "           0       0.90      0.88      0.89      5035\n",
      "           1       0.88      0.90      0.89      4965\n",
      "\n",
      "    accuracy                           0.89     10000\n",
      "   macro avg       0.89      0.89      0.89     10000\n",
      "weighted avg       0.89      0.89      0.89     10000\n",
      "\n"
     ]
    },
    {
     "data": {
      "text/markdown": [
       "### logistic_regression classification report for doc2vec"
      ],
      "text/plain": [
       "<IPython.core.display.Markdown object>"
      ]
     },
     "metadata": {},
     "output_type": "display_data"
    },
    {
     "name": "stdout",
     "output_type": "stream",
     "text": [
      "              precision    recall  f1-score   support\n",
      "\n",
      "           0       0.84      0.87      0.85      5035\n",
      "           1       0.86      0.83      0.84      4965\n",
      "\n",
      "    accuracy                           0.85     10000\n",
      "   macro avg       0.85      0.85      0.85     10000\n",
      "weighted avg       0.85      0.85      0.85     10000\n",
      "\n"
     ]
    },
    {
     "data": {
      "text/markdown": [
       "-------"
      ],
      "text/plain": [
       "<IPython.core.display.Markdown object>"
      ]
     },
     "metadata": {},
     "output_type": "display_data"
    },
    {
     "data": {
      "text/markdown": [
       "### random_forest classification report for bow"
      ],
      "text/plain": [
       "<IPython.core.display.Markdown object>"
      ]
     },
     "metadata": {},
     "output_type": "display_data"
    },
    {
     "name": "stdout",
     "output_type": "stream",
     "text": [
      "              precision    recall  f1-score   support\n",
      "\n",
      "           0       0.87      0.78      0.82      5035\n",
      "           1       0.80      0.88      0.84      4965\n",
      "\n",
      "    accuracy                           0.83     10000\n",
      "   macro avg       0.84      0.83      0.83     10000\n",
      "weighted avg       0.84      0.83      0.83     10000\n",
      "\n"
     ]
    },
    {
     "data": {
      "text/markdown": [
       "### random_forest classification report for tfidf"
      ],
      "text/plain": [
       "<IPython.core.display.Markdown object>"
      ]
     },
     "metadata": {},
     "output_type": "display_data"
    },
    {
     "name": "stdout",
     "output_type": "stream",
     "text": [
      "              precision    recall  f1-score   support\n",
      "\n",
      "           0       0.87      0.78      0.82      5035\n",
      "           1       0.80      0.88      0.84      4965\n",
      "\n",
      "    accuracy                           0.83     10000\n",
      "   macro avg       0.84      0.83      0.83     10000\n",
      "weighted avg       0.84      0.83      0.83     10000\n",
      "\n"
     ]
    },
    {
     "data": {
      "text/markdown": [
       "### random_forest classification report for doc2vec"
      ],
      "text/plain": [
       "<IPython.core.display.Markdown object>"
      ]
     },
     "metadata": {},
     "output_type": "display_data"
    },
    {
     "name": "stdout",
     "output_type": "stream",
     "text": [
      "              precision    recall  f1-score   support\n",
      "\n",
      "           0       0.80      0.81      0.80      5035\n",
      "           1       0.80      0.79      0.80      4965\n",
      "\n",
      "    accuracy                           0.80     10000\n",
      "   macro avg       0.80      0.80      0.80     10000\n",
      "weighted avg       0.80      0.80      0.80     10000\n",
      "\n"
     ]
    }
   ],
   "source": [
    "from sklearn.linear_model import LogisticRegression\n",
    "from sklearn.ensemble import RandomForestClassifier\n",
    "from sklearn.metrics import classification_report\n",
    "\n",
    "for model_name in [\"logistic_regression\", \"random_forest\"]:\n",
    "    printmd(\"-------\")\n",
    "    for method in [\"bow\", \"tfidf\", \"doc2vec\"]:\n",
    "        if model_name == \"random_forest\":\n",
    "            models[model_name][method] = RandomForestClassifier(\n",
    "                n_estimators=200, max_depth=10, random_state=0\n",
    "            )\n",
    "        elif model_name == \"logistic_regression\":\n",
    "\n",
    "            models[model_name][method] = LogisticRegression()\n",
    "        else:\n",
    "            raise ValueError(\"Unknown model\")\n",
    "\n",
    "        # Fit the model\n",
    "        models[model_name][method].fit(X_train[method], y_train)\n",
    "        # Predict the target\n",
    "        y_pred = models[model_name][method].predict(X_test[method])\n",
    "\n",
    "        # Print the classification report\n",
    "        printmd(f\"### {model_name} classification report for {method}\")\n",
    "        print(classification_report(y_test, y_pred))"
   ]
  },
  {
   "cell_type": "markdown",
   "metadata": {},
   "source": [
    "<div class='alert alert-info'>\n",
    "<b> Exercise 1.5.3 </b>\n",
    "\n",
    "* Create a bar chart comparing the **accuracy** of all six models (use distinct colors to differentiate the vectorization techniques).\n",
    "* Identify the best combination of **classifier** and **vectorization technique** based on the highest accuracy and balanced performance across both classes.\n",
    "* Reflect: do the results align with your expectations?\n",
    "\n",
    "<div/>\n"
   ]
  },
  {
   "cell_type": "code",
   "execution_count": 31,
   "metadata": {},
   "outputs": [
    {
     "data": {
      "image/png": "[encoded data removed]",
      "text/plain": [
       "<Figure size 640x480 with 1 Axes>"
      ]
     },
     "metadata": {},
     "output_type": "display_data"
    }
   ],
   "source": [
    "from sklearn.metrics import f1_score\n",
    "\n",
    "accuracy_scores = {}\n",
    "f1_scores = {}\n",
    "for model_name in models:\n",
    "    accuracy_scores[model_name] = {}\n",
    "    f1_scores[model_name] = {}\n",
    "    for method in models[model_name]:\n",
    "        y_pred = models[model_name][method].predict(X_test[method])\n",
    "        accuracy_scores[model_name][method] = np.mean(y_test == y_pred)\n",
    "        f1_scores[model_name][method] = f1_score(y_test, y_pred)\n",
    "\n",
    "accuracy_df = pd.DataFrame(f1_scores)\n",
    "accuracy_df.plot(kind=\"bar\")\n",
    "plt.xlabel(\"Vectorization Method\")\n",
    "plt.ylabel(\"F1 Score\")\n",
    "plt.show()"
   ]
  }
 ],
 "metadata": {
  "kernelspec": {
   "display_name": "eval-aibt",
   "language": "python",
   "name": "python3"
  },
  "language_info": {
   "codemirror_mode": {
    "name": "ipython",
    "version": 3
   },
   "file_extension": ".py",
   "mimetype": "text/x-python",
   "name": "python",
   "nbconvert_exporter": "python",
   "pygments_lexer": "ipython3",
   "version": "3.10.8"
  },
  "orig_nbformat": 4
 },
 "nbformat": 4,
 "nbformat_minor": 2
}
